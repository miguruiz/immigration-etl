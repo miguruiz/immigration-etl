{
 "cells": [
  {
   "cell_type": "markdown",
   "metadata": {
    "editable": true
   },
   "source": [
    "\n",
    "# Data Engineering Capstone Project\n",
    "\n",
    "#### Project Summary\n",
    "For the project we are going to assume we are an Intelligene Company inside the airline industry, and we are creating a new product called 'Travel Intelligence' that sells data to Airports & Airlines.\n",
    "\n",
    "We will be cleaning the provided datasets and creating an star-scheme table where clients can purchase the fact table, and separately the dimension tables.\n",
    "\n",
    "\n",
    "\n",
    "\n",
    "The project follows the follow steps:\n",
    "* Step 1: Scope the Project and Gather Data\n",
    "* Step 2: Explore and Assess the Data\n",
    "* Step 3: Define the Data Model\n",
    "* Step 4: Run ETL to Model the Data\n",
    "* Step 5: Complete Project Write Up"
   ]
  },
  {
   "cell_type": "code",
   "execution_count": 1,
   "metadata": {
    "editable": true
   },
   "outputs": [
    {
     "name": "stdout",
     "output_type": "stream",
     "text": [
      "Requirement already satisfied: reverse_geocoder in /opt/conda/lib/python3.6/site-packages (1.5.1)\n",
      "Requirement already satisfied: numpy>=1.11.0 in /opt/conda/lib/python3.6/site-packages (from reverse_geocoder) (1.12.1)\n",
      "Requirement already satisfied: scipy>=0.17.1 in /opt/conda/lib/python3.6/site-packages (from reverse_geocoder) (1.2.1)\n"
     ]
    }
   ],
   "source": [
    "# Do all imports and installs here\n",
    "!pip install reverse_geocoder\n",
    "\n",
    "import pandas as pd\n",
    "import seaborn as sns\n",
    "import numpy as np\n",
    "import datetime \n",
    "import re\n",
    "from pyspark.sql.functions import col, create_map, lit, to_date, countDistinct, year, month, expr, mean, udf , to_timestamp\n",
    "from itertools import chain\n",
    "import reverse_geocoder\n",
    "from pyspark.sql import SparkSession\n",
    "from pyspark.sql.types import IntegerType, StringType\n",
    "\n",
    "pd.set_option('max_columns', None)\n",
    "\n",
    "spark = SparkSession.builder.\\\n",
    "config(\"spark.jars.packages\",\"saurfang:spark-sas7bdat:2.0.0-s_2.11\")\\\n",
    ".enableHiveSupport().getOrCreate()"
   ]
  },
  {
   "cell_type": "markdown",
   "metadata": {
    "editable": true
   },
   "source": [
    "### Step 1: Scope the Project and Gather Data\n",
    "\n",
    "#### Scope \n",
    "\n",
    "The plan for the project is to create a fact and dimension tables, where the fact table is the immigration data without aggregation, , and the dimensions tables are other referential datasets, such as temperature, city information, demographics, etc. \n",
    "\n",
    "What I plan to do in the project is clean the data, making sure the joining columns are all in a similar format, and also ensuring that its easirt to add more referential data to complement the fact table.\n",
    "\n",
    "The tech stack is going to be simple: Pandas for small datasets, Pyspark for large ones. This is for the development of the ETL, if we were going to industralize it, we would use Airflow, everything in Spark for scalability purposes.\n",
    "\n",
    "The data will be described below.\n",
    "\n",
    "#### Describe and Gather Data "
   ]
  },
  {
   "cell_type": "code",
   "execution_count": 2,
   "metadata": {
    "editable": true
   },
   "outputs": [],
   "source": [
    "# Read in the data here\n",
    "df_airport_codes= pd.read_csv('raw/airport-codes_csv.csv')\n",
    "df_immigratio_sample = pd.read_csv('raw/immigration_data_sample.csv')\n",
    "df_cities = pd.read_csv('raw/us-cities-demographics.csv', sep = ';')\n",
    "df_temperatures = pd.read_csv('raw/GlobalLandTemperaturesByCity.csv', parse_dates = ['dt'])"
   ]
  },
  {
   "cell_type": "markdown",
   "metadata": {
    "editable": true
   },
   "source": [
    "##### <font color='blue'>IMMIGRATION</font> \n",
    "\n",
    "International visitor arrival statistics by world regions and select countries (including top 20), type of visa, mode of transportation, age groups, states visited (first intended address only), and the top ports of entry (for select countries).\n",
    "\n",
    "source: https://travel.trade.gov/research/reports/i94/historical/2016.html\n",
    "```\n",
    "\"Unnamed: 0\" -> \n",
    "\"cicid\"      -> Traveller CiC id\n",
    "\"i94yr\"      -> Departure year\n",
    "\"i94mon\"     -> Departure month\n",
    "\"i94cit\"     -> Departure City \n",
    "\"i94res\"     -> Unknown\n",
    "\"i94port\"    -> Arrival port\n",
    "\"arrdate\"    -> Arrival date \n",
    "\"i94mode\"    -> How the traveller arrived to USA \n",
    "\"i94addr\"    -> Address in the US Arrival/Departure - unknown\n",
    "\"depdate\"    -> Departure Date from the USA - in x time\n",
    "\"i94bir\"     -> Age of Respondent in Years\n",
    "\"i94visa\"    -> Visa codes collapsed into three categories\n",
    "\"count\"      -> Used for summary statistics\n",
    "\"dtadfile\"   -> Character Date Field - Date added to I-94 Files \n",
    "\"visapost\"   -> Department of State where where Visa was issued \n",
    "\"occup\"      -> Occupation that will be performed in U.S.\n",
    "\"entdepa\"    -> Arrival Flag - admitted or paroled into the U.S. - CIC does not use\n",
    "\"entdepd\"    -> Departure Flag - Departed, lost I-94 or is deceased\n",
    "\"entdepu\"    -> Update Flag - Either apprehended, overstayed, adjusted to perm residence - CIC does not use\n",
    "\"matflag\"    -> Match of arrival and departure records\n",
    "\"biryear\"    -> Traveller - Year of birth\n",
    "\"dtaddto\"    -> Visa - Date to which admmitted to US\n",
    "\"gender\"     -> Traveller - Gender\n",
    "\"insnum\"     -> INS number\n",
    "\"airline\"    -> Arrival Airline IATA code\n",
    "\"admnum\"     -> Visa Admission Number\n",
    "\"fltno\"      -> Arrival Flight Number\n",
    "\"visatype\"   -> Traveller - type of visa\n",
    "```"
   ]
  },
  {
   "cell_type": "code",
   "execution_count": 3,
   "metadata": {
    "editable": true
   },
   "outputs": [
    {
     "data": {
      "text/html": [
       "<div>\n",
       "<style scoped>\n",
       "    .dataframe tbody tr th:only-of-type {\n",
       "        vertical-align: middle;\n",
       "    }\n",
       "\n",
       "    .dataframe tbody tr th {\n",
       "        vertical-align: top;\n",
       "    }\n",
       "\n",
       "    .dataframe thead th {\n",
       "        text-align: right;\n",
       "    }\n",
       "</style>\n",
       "<table border=\"1\" class=\"dataframe\">\n",
       "  <thead>\n",
       "    <tr style=\"text-align: right;\">\n",
       "      <th></th>\n",
       "      <th>Unnamed: 0</th>\n",
       "      <th>cicid</th>\n",
       "      <th>i94yr</th>\n",
       "      <th>i94mon</th>\n",
       "      <th>i94cit</th>\n",
       "      <th>i94res</th>\n",
       "      <th>i94port</th>\n",
       "      <th>arrdate</th>\n",
       "      <th>i94mode</th>\n",
       "      <th>i94addr</th>\n",
       "      <th>depdate</th>\n",
       "      <th>i94bir</th>\n",
       "      <th>i94visa</th>\n",
       "      <th>count</th>\n",
       "      <th>dtadfile</th>\n",
       "      <th>visapost</th>\n",
       "      <th>occup</th>\n",
       "      <th>entdepa</th>\n",
       "      <th>entdepd</th>\n",
       "      <th>entdepu</th>\n",
       "      <th>matflag</th>\n",
       "      <th>biryear</th>\n",
       "      <th>dtaddto</th>\n",
       "      <th>gender</th>\n",
       "      <th>insnum</th>\n",
       "      <th>airline</th>\n",
       "      <th>admnum</th>\n",
       "      <th>fltno</th>\n",
       "      <th>visatype</th>\n",
       "    </tr>\n",
       "  </thead>\n",
       "  <tbody>\n",
       "    <tr>\n",
       "      <th>0</th>\n",
       "      <td>2027561</td>\n",
       "      <td>4084316.0</td>\n",
       "      <td>2016.0</td>\n",
       "      <td>4.0</td>\n",
       "      <td>209.0</td>\n",
       "      <td>209.0</td>\n",
       "      <td>HHW</td>\n",
       "      <td>20566.0</td>\n",
       "      <td>1.0</td>\n",
       "      <td>HI</td>\n",
       "      <td>20573.0</td>\n",
       "      <td>61.0</td>\n",
       "      <td>2.0</td>\n",
       "      <td>1.0</td>\n",
       "      <td>20160422</td>\n",
       "      <td>NaN</td>\n",
       "      <td>NaN</td>\n",
       "      <td>G</td>\n",
       "      <td>O</td>\n",
       "      <td>NaN</td>\n",
       "      <td>M</td>\n",
       "      <td>1955.0</td>\n",
       "      <td>07202016</td>\n",
       "      <td>F</td>\n",
       "      <td>NaN</td>\n",
       "      <td>JL</td>\n",
       "      <td>5.658267e+10</td>\n",
       "      <td>00782</td>\n",
       "      <td>WT</td>\n",
       "    </tr>\n",
       "    <tr>\n",
       "      <th>1</th>\n",
       "      <td>2171295</td>\n",
       "      <td>4422636.0</td>\n",
       "      <td>2016.0</td>\n",
       "      <td>4.0</td>\n",
       "      <td>582.0</td>\n",
       "      <td>582.0</td>\n",
       "      <td>MCA</td>\n",
       "      <td>20567.0</td>\n",
       "      <td>1.0</td>\n",
       "      <td>TX</td>\n",
       "      <td>20568.0</td>\n",
       "      <td>26.0</td>\n",
       "      <td>2.0</td>\n",
       "      <td>1.0</td>\n",
       "      <td>20160423</td>\n",
       "      <td>MTR</td>\n",
       "      <td>NaN</td>\n",
       "      <td>G</td>\n",
       "      <td>R</td>\n",
       "      <td>NaN</td>\n",
       "      <td>M</td>\n",
       "      <td>1990.0</td>\n",
       "      <td>10222016</td>\n",
       "      <td>M</td>\n",
       "      <td>NaN</td>\n",
       "      <td>*GA</td>\n",
       "      <td>9.436200e+10</td>\n",
       "      <td>XBLNG</td>\n",
       "      <td>B2</td>\n",
       "    </tr>\n",
       "    <tr>\n",
       "      <th>2</th>\n",
       "      <td>589494</td>\n",
       "      <td>1195600.0</td>\n",
       "      <td>2016.0</td>\n",
       "      <td>4.0</td>\n",
       "      <td>148.0</td>\n",
       "      <td>112.0</td>\n",
       "      <td>OGG</td>\n",
       "      <td>20551.0</td>\n",
       "      <td>1.0</td>\n",
       "      <td>FL</td>\n",
       "      <td>20571.0</td>\n",
       "      <td>76.0</td>\n",
       "      <td>2.0</td>\n",
       "      <td>1.0</td>\n",
       "      <td>20160407</td>\n",
       "      <td>NaN</td>\n",
       "      <td>NaN</td>\n",
       "      <td>G</td>\n",
       "      <td>O</td>\n",
       "      <td>NaN</td>\n",
       "      <td>M</td>\n",
       "      <td>1940.0</td>\n",
       "      <td>07052016</td>\n",
       "      <td>M</td>\n",
       "      <td>NaN</td>\n",
       "      <td>LH</td>\n",
       "      <td>5.578047e+10</td>\n",
       "      <td>00464</td>\n",
       "      <td>WT</td>\n",
       "    </tr>\n",
       "    <tr>\n",
       "      <th>3</th>\n",
       "      <td>2631158</td>\n",
       "      <td>5291768.0</td>\n",
       "      <td>2016.0</td>\n",
       "      <td>4.0</td>\n",
       "      <td>297.0</td>\n",
       "      <td>297.0</td>\n",
       "      <td>LOS</td>\n",
       "      <td>20572.0</td>\n",
       "      <td>1.0</td>\n",
       "      <td>CA</td>\n",
       "      <td>20581.0</td>\n",
       "      <td>25.0</td>\n",
       "      <td>2.0</td>\n",
       "      <td>1.0</td>\n",
       "      <td>20160428</td>\n",
       "      <td>DOH</td>\n",
       "      <td>NaN</td>\n",
       "      <td>G</td>\n",
       "      <td>O</td>\n",
       "      <td>NaN</td>\n",
       "      <td>M</td>\n",
       "      <td>1991.0</td>\n",
       "      <td>10272016</td>\n",
       "      <td>M</td>\n",
       "      <td>NaN</td>\n",
       "      <td>QR</td>\n",
       "      <td>9.478970e+10</td>\n",
       "      <td>00739</td>\n",
       "      <td>B2</td>\n",
       "    </tr>\n",
       "    <tr>\n",
       "      <th>4</th>\n",
       "      <td>3032257</td>\n",
       "      <td>985523.0</td>\n",
       "      <td>2016.0</td>\n",
       "      <td>4.0</td>\n",
       "      <td>111.0</td>\n",
       "      <td>111.0</td>\n",
       "      <td>CHM</td>\n",
       "      <td>20550.0</td>\n",
       "      <td>3.0</td>\n",
       "      <td>NY</td>\n",
       "      <td>20553.0</td>\n",
       "      <td>19.0</td>\n",
       "      <td>2.0</td>\n",
       "      <td>1.0</td>\n",
       "      <td>20160406</td>\n",
       "      <td>NaN</td>\n",
       "      <td>NaN</td>\n",
       "      <td>Z</td>\n",
       "      <td>K</td>\n",
       "      <td>NaN</td>\n",
       "      <td>M</td>\n",
       "      <td>1997.0</td>\n",
       "      <td>07042016</td>\n",
       "      <td>F</td>\n",
       "      <td>NaN</td>\n",
       "      <td>NaN</td>\n",
       "      <td>4.232257e+10</td>\n",
       "      <td>LAND</td>\n",
       "      <td>WT</td>\n",
       "    </tr>\n",
       "  </tbody>\n",
       "</table>\n",
       "</div>"
      ],
      "text/plain": [
       "   Unnamed: 0      cicid   i94yr  i94mon  i94cit  i94res i94port  arrdate  \\\n",
       "0     2027561  4084316.0  2016.0     4.0   209.0   209.0     HHW  20566.0   \n",
       "1     2171295  4422636.0  2016.0     4.0   582.0   582.0     MCA  20567.0   \n",
       "2      589494  1195600.0  2016.0     4.0   148.0   112.0     OGG  20551.0   \n",
       "3     2631158  5291768.0  2016.0     4.0   297.0   297.0     LOS  20572.0   \n",
       "4     3032257   985523.0  2016.0     4.0   111.0   111.0     CHM  20550.0   \n",
       "\n",
       "   i94mode i94addr  depdate  i94bir  i94visa  count  dtadfile visapost occup  \\\n",
       "0      1.0      HI  20573.0    61.0      2.0    1.0  20160422      NaN   NaN   \n",
       "1      1.0      TX  20568.0    26.0      2.0    1.0  20160423      MTR   NaN   \n",
       "2      1.0      FL  20571.0    76.0      2.0    1.0  20160407      NaN   NaN   \n",
       "3      1.0      CA  20581.0    25.0      2.0    1.0  20160428      DOH   NaN   \n",
       "4      3.0      NY  20553.0    19.0      2.0    1.0  20160406      NaN   NaN   \n",
       "\n",
       "  entdepa entdepd  entdepu matflag  biryear   dtaddto gender  insnum airline  \\\n",
       "0       G       O      NaN       M   1955.0  07202016      F     NaN      JL   \n",
       "1       G       R      NaN       M   1990.0  10222016      M     NaN     *GA   \n",
       "2       G       O      NaN       M   1940.0  07052016      M     NaN      LH   \n",
       "3       G       O      NaN       M   1991.0  10272016      M     NaN      QR   \n",
       "4       Z       K      NaN       M   1997.0  07042016      F     NaN     NaN   \n",
       "\n",
       "         admnum  fltno visatype  \n",
       "0  5.658267e+10  00782       WT  \n",
       "1  9.436200e+10  XBLNG       B2  \n",
       "2  5.578047e+10  00464       WT  \n",
       "3  9.478970e+10  00739       B2  \n",
       "4  4.232257e+10   LAND       WT  "
      ]
     },
     "execution_count": 3,
     "metadata": {},
     "output_type": "execute_result"
    }
   ],
   "source": [
    "df_immigratio_sample.head()"
   ]
  },
  {
   "cell_type": "markdown",
   "metadata": {
    "editable": true
   },
   "source": [
    "##### <font color='blue'>AIRPORT CODES</font> \n",
    "\n",
    "Contains the list of all airport codes. Some of the columns contain attributes identifying airport locations, other codes (IATA, local if exist) that are relevant to identification of an airport.\n",
    "\n",
    "Source: https://datahub.io/core/airport-codes#data"
   ]
  },
  {
   "cell_type": "code",
   "execution_count": 4,
   "metadata": {
    "editable": true
   },
   "outputs": [
    {
     "data": {
      "text/html": [
       "<div>\n",
       "<style scoped>\n",
       "    .dataframe tbody tr th:only-of-type {\n",
       "        vertical-align: middle;\n",
       "    }\n",
       "\n",
       "    .dataframe tbody tr th {\n",
       "        vertical-align: top;\n",
       "    }\n",
       "\n",
       "    .dataframe thead th {\n",
       "        text-align: right;\n",
       "    }\n",
       "</style>\n",
       "<table border=\"1\" class=\"dataframe\">\n",
       "  <thead>\n",
       "    <tr style=\"text-align: right;\">\n",
       "      <th></th>\n",
       "      <th>ident</th>\n",
       "      <th>type</th>\n",
       "      <th>name</th>\n",
       "      <th>elevation_ft</th>\n",
       "      <th>continent</th>\n",
       "      <th>iso_country</th>\n",
       "      <th>iso_region</th>\n",
       "      <th>municipality</th>\n",
       "      <th>gps_code</th>\n",
       "      <th>iata_code</th>\n",
       "      <th>local_code</th>\n",
       "      <th>coordinates</th>\n",
       "    </tr>\n",
       "  </thead>\n",
       "  <tbody>\n",
       "    <tr>\n",
       "      <th>0</th>\n",
       "      <td>00A</td>\n",
       "      <td>heliport</td>\n",
       "      <td>Total Rf Heliport</td>\n",
       "      <td>11.0</td>\n",
       "      <td>NaN</td>\n",
       "      <td>US</td>\n",
       "      <td>US-PA</td>\n",
       "      <td>Bensalem</td>\n",
       "      <td>00A</td>\n",
       "      <td>NaN</td>\n",
       "      <td>00A</td>\n",
       "      <td>-74.93360137939453, 40.07080078125</td>\n",
       "    </tr>\n",
       "    <tr>\n",
       "      <th>1</th>\n",
       "      <td>00AA</td>\n",
       "      <td>small_airport</td>\n",
       "      <td>Aero B Ranch Airport</td>\n",
       "      <td>3435.0</td>\n",
       "      <td>NaN</td>\n",
       "      <td>US</td>\n",
       "      <td>US-KS</td>\n",
       "      <td>Leoti</td>\n",
       "      <td>00AA</td>\n",
       "      <td>NaN</td>\n",
       "      <td>00AA</td>\n",
       "      <td>-101.473911, 38.704022</td>\n",
       "    </tr>\n",
       "    <tr>\n",
       "      <th>2</th>\n",
       "      <td>00AK</td>\n",
       "      <td>small_airport</td>\n",
       "      <td>Lowell Field</td>\n",
       "      <td>450.0</td>\n",
       "      <td>NaN</td>\n",
       "      <td>US</td>\n",
       "      <td>US-AK</td>\n",
       "      <td>Anchor Point</td>\n",
       "      <td>00AK</td>\n",
       "      <td>NaN</td>\n",
       "      <td>00AK</td>\n",
       "      <td>-151.695999146, 59.94919968</td>\n",
       "    </tr>\n",
       "    <tr>\n",
       "      <th>3</th>\n",
       "      <td>00AL</td>\n",
       "      <td>small_airport</td>\n",
       "      <td>Epps Airpark</td>\n",
       "      <td>820.0</td>\n",
       "      <td>NaN</td>\n",
       "      <td>US</td>\n",
       "      <td>US-AL</td>\n",
       "      <td>Harvest</td>\n",
       "      <td>00AL</td>\n",
       "      <td>NaN</td>\n",
       "      <td>00AL</td>\n",
       "      <td>-86.77030181884766, 34.86479949951172</td>\n",
       "    </tr>\n",
       "    <tr>\n",
       "      <th>4</th>\n",
       "      <td>00AR</td>\n",
       "      <td>closed</td>\n",
       "      <td>Newport Hospital &amp; Clinic Heliport</td>\n",
       "      <td>237.0</td>\n",
       "      <td>NaN</td>\n",
       "      <td>US</td>\n",
       "      <td>US-AR</td>\n",
       "      <td>Newport</td>\n",
       "      <td>NaN</td>\n",
       "      <td>NaN</td>\n",
       "      <td>NaN</td>\n",
       "      <td>-91.254898, 35.6087</td>\n",
       "    </tr>\n",
       "  </tbody>\n",
       "</table>\n",
       "</div>"
      ],
      "text/plain": [
       "  ident           type                                name  elevation_ft  \\\n",
       "0   00A       heliport                   Total Rf Heliport          11.0   \n",
       "1  00AA  small_airport                Aero B Ranch Airport        3435.0   \n",
       "2  00AK  small_airport                        Lowell Field         450.0   \n",
       "3  00AL  small_airport                        Epps Airpark         820.0   \n",
       "4  00AR         closed  Newport Hospital & Clinic Heliport         237.0   \n",
       "\n",
       "  continent iso_country iso_region  municipality gps_code iata_code  \\\n",
       "0       NaN          US      US-PA      Bensalem      00A       NaN   \n",
       "1       NaN          US      US-KS         Leoti     00AA       NaN   \n",
       "2       NaN          US      US-AK  Anchor Point     00AK       NaN   \n",
       "3       NaN          US      US-AL       Harvest     00AL       NaN   \n",
       "4       NaN          US      US-AR       Newport      NaN       NaN   \n",
       "\n",
       "  local_code                            coordinates  \n",
       "0        00A     -74.93360137939453, 40.07080078125  \n",
       "1       00AA                 -101.473911, 38.704022  \n",
       "2       00AK            -151.695999146, 59.94919968  \n",
       "3       00AL  -86.77030181884766, 34.86479949951172  \n",
       "4        NaN                    -91.254898, 35.6087  "
      ]
     },
     "execution_count": 4,
     "metadata": {},
     "output_type": "execute_result"
    }
   ],
   "source": [
    "df_airport_codes.head()"
   ]
  },
  {
   "cell_type": "markdown",
   "metadata": {
    "editable": true
   },
   "source": [
    "##### <font color='blue'>TEMPERATURES</font> \n",
    "\n",
    "Temperature data for cities around the globe. \n",
    "\n",
    "Soruce: https://www.kaggle.com/berkeleyearth/climate-change-earth-surface-temperature-data"
   ]
  },
  {
   "cell_type": "code",
   "execution_count": 5,
   "metadata": {
    "editable": true
   },
   "outputs": [
    {
     "data": {
      "text/html": [
       "<div>\n",
       "<style scoped>\n",
       "    .dataframe tbody tr th:only-of-type {\n",
       "        vertical-align: middle;\n",
       "    }\n",
       "\n",
       "    .dataframe tbody tr th {\n",
       "        vertical-align: top;\n",
       "    }\n",
       "\n",
       "    .dataframe thead th {\n",
       "        text-align: right;\n",
       "    }\n",
       "</style>\n",
       "<table border=\"1\" class=\"dataframe\">\n",
       "  <thead>\n",
       "    <tr style=\"text-align: right;\">\n",
       "      <th></th>\n",
       "      <th>dt</th>\n",
       "      <th>AverageTemperature</th>\n",
       "      <th>AverageTemperatureUncertainty</th>\n",
       "      <th>City</th>\n",
       "      <th>Country</th>\n",
       "      <th>Latitude</th>\n",
       "      <th>Longitude</th>\n",
       "    </tr>\n",
       "  </thead>\n",
       "  <tbody>\n",
       "    <tr>\n",
       "      <th>0</th>\n",
       "      <td>1743-11-01</td>\n",
       "      <td>6.068</td>\n",
       "      <td>1.737</td>\n",
       "      <td>Århus</td>\n",
       "      <td>Denmark</td>\n",
       "      <td>57.05N</td>\n",
       "      <td>10.33E</td>\n",
       "    </tr>\n",
       "    <tr>\n",
       "      <th>1</th>\n",
       "      <td>1743-12-01</td>\n",
       "      <td>NaN</td>\n",
       "      <td>NaN</td>\n",
       "      <td>Århus</td>\n",
       "      <td>Denmark</td>\n",
       "      <td>57.05N</td>\n",
       "      <td>10.33E</td>\n",
       "    </tr>\n",
       "    <tr>\n",
       "      <th>2</th>\n",
       "      <td>1744-01-01</td>\n",
       "      <td>NaN</td>\n",
       "      <td>NaN</td>\n",
       "      <td>Århus</td>\n",
       "      <td>Denmark</td>\n",
       "      <td>57.05N</td>\n",
       "      <td>10.33E</td>\n",
       "    </tr>\n",
       "    <tr>\n",
       "      <th>3</th>\n",
       "      <td>1744-02-01</td>\n",
       "      <td>NaN</td>\n",
       "      <td>NaN</td>\n",
       "      <td>Århus</td>\n",
       "      <td>Denmark</td>\n",
       "      <td>57.05N</td>\n",
       "      <td>10.33E</td>\n",
       "    </tr>\n",
       "    <tr>\n",
       "      <th>4</th>\n",
       "      <td>1744-03-01</td>\n",
       "      <td>NaN</td>\n",
       "      <td>NaN</td>\n",
       "      <td>Århus</td>\n",
       "      <td>Denmark</td>\n",
       "      <td>57.05N</td>\n",
       "      <td>10.33E</td>\n",
       "    </tr>\n",
       "  </tbody>\n",
       "</table>\n",
       "</div>"
      ],
      "text/plain": [
       "          dt  AverageTemperature  AverageTemperatureUncertainty   City  \\\n",
       "0 1743-11-01               6.068                          1.737  Århus   \n",
       "1 1743-12-01                 NaN                            NaN  Århus   \n",
       "2 1744-01-01                 NaN                            NaN  Århus   \n",
       "3 1744-02-01                 NaN                            NaN  Århus   \n",
       "4 1744-03-01                 NaN                            NaN  Århus   \n",
       "\n",
       "   Country Latitude Longitude  \n",
       "0  Denmark   57.05N    10.33E  \n",
       "1  Denmark   57.05N    10.33E  \n",
       "2  Denmark   57.05N    10.33E  \n",
       "3  Denmark   57.05N    10.33E  \n",
       "4  Denmark   57.05N    10.33E  "
      ]
     },
     "execution_count": 5,
     "metadata": {},
     "output_type": "execute_result"
    }
   ],
   "source": [
    "df_temperatures.head()"
   ]
  },
  {
   "cell_type": "markdown",
   "metadata": {
    "editable": true
   },
   "source": [
    "##### <font color='blue'>CITIES</font> \n",
    "\n",
    "This dataset contains information about the demographics of all US cities and census-designated places with a population greater or equal to 65,000. \n",
    "\n",
    "This data comes from the US Census Bureau's 2015 American Community Survey.\n",
    "\n",
    "Source: https://public.opendatasoft.com/explore/dataset/us-cities-demographics/table/"
   ]
  },
  {
   "cell_type": "code",
   "execution_count": 6,
   "metadata": {
    "editable": true
   },
   "outputs": [
    {
     "data": {
      "text/html": [
       "<div>\n",
       "<style scoped>\n",
       "    .dataframe tbody tr th:only-of-type {\n",
       "        vertical-align: middle;\n",
       "    }\n",
       "\n",
       "    .dataframe tbody tr th {\n",
       "        vertical-align: top;\n",
       "    }\n",
       "\n",
       "    .dataframe thead th {\n",
       "        text-align: right;\n",
       "    }\n",
       "</style>\n",
       "<table border=\"1\" class=\"dataframe\">\n",
       "  <thead>\n",
       "    <tr style=\"text-align: right;\">\n",
       "      <th></th>\n",
       "      <th>City</th>\n",
       "      <th>State</th>\n",
       "      <th>Median Age</th>\n",
       "      <th>Male Population</th>\n",
       "      <th>Female Population</th>\n",
       "      <th>Total Population</th>\n",
       "      <th>Number of Veterans</th>\n",
       "      <th>Foreign-born</th>\n",
       "      <th>Average Household Size</th>\n",
       "      <th>State Code</th>\n",
       "      <th>Race</th>\n",
       "      <th>Count</th>\n",
       "    </tr>\n",
       "  </thead>\n",
       "  <tbody>\n",
       "    <tr>\n",
       "      <th>0</th>\n",
       "      <td>Silver Spring</td>\n",
       "      <td>Maryland</td>\n",
       "      <td>33.8</td>\n",
       "      <td>40601.0</td>\n",
       "      <td>41862.0</td>\n",
       "      <td>82463</td>\n",
       "      <td>1562.0</td>\n",
       "      <td>30908.0</td>\n",
       "      <td>2.60</td>\n",
       "      <td>MD</td>\n",
       "      <td>Hispanic or Latino</td>\n",
       "      <td>25924</td>\n",
       "    </tr>\n",
       "    <tr>\n",
       "      <th>1</th>\n",
       "      <td>Quincy</td>\n",
       "      <td>Massachusetts</td>\n",
       "      <td>41.0</td>\n",
       "      <td>44129.0</td>\n",
       "      <td>49500.0</td>\n",
       "      <td>93629</td>\n",
       "      <td>4147.0</td>\n",
       "      <td>32935.0</td>\n",
       "      <td>2.39</td>\n",
       "      <td>MA</td>\n",
       "      <td>White</td>\n",
       "      <td>58723</td>\n",
       "    </tr>\n",
       "    <tr>\n",
       "      <th>2</th>\n",
       "      <td>Hoover</td>\n",
       "      <td>Alabama</td>\n",
       "      <td>38.5</td>\n",
       "      <td>38040.0</td>\n",
       "      <td>46799.0</td>\n",
       "      <td>84839</td>\n",
       "      <td>4819.0</td>\n",
       "      <td>8229.0</td>\n",
       "      <td>2.58</td>\n",
       "      <td>AL</td>\n",
       "      <td>Asian</td>\n",
       "      <td>4759</td>\n",
       "    </tr>\n",
       "    <tr>\n",
       "      <th>3</th>\n",
       "      <td>Rancho Cucamonga</td>\n",
       "      <td>California</td>\n",
       "      <td>34.5</td>\n",
       "      <td>88127.0</td>\n",
       "      <td>87105.0</td>\n",
       "      <td>175232</td>\n",
       "      <td>5821.0</td>\n",
       "      <td>33878.0</td>\n",
       "      <td>3.18</td>\n",
       "      <td>CA</td>\n",
       "      <td>Black or African-American</td>\n",
       "      <td>24437</td>\n",
       "    </tr>\n",
       "    <tr>\n",
       "      <th>4</th>\n",
       "      <td>Newark</td>\n",
       "      <td>New Jersey</td>\n",
       "      <td>34.6</td>\n",
       "      <td>138040.0</td>\n",
       "      <td>143873.0</td>\n",
       "      <td>281913</td>\n",
       "      <td>5829.0</td>\n",
       "      <td>86253.0</td>\n",
       "      <td>2.73</td>\n",
       "      <td>NJ</td>\n",
       "      <td>White</td>\n",
       "      <td>76402</td>\n",
       "    </tr>\n",
       "  </tbody>\n",
       "</table>\n",
       "</div>"
      ],
      "text/plain": [
       "               City          State  Median Age  Male Population  \\\n",
       "0     Silver Spring       Maryland        33.8          40601.0   \n",
       "1            Quincy  Massachusetts        41.0          44129.0   \n",
       "2            Hoover        Alabama        38.5          38040.0   \n",
       "3  Rancho Cucamonga     California        34.5          88127.0   \n",
       "4            Newark     New Jersey        34.6         138040.0   \n",
       "\n",
       "   Female Population  Total Population  Number of Veterans  Foreign-born  \\\n",
       "0            41862.0             82463              1562.0       30908.0   \n",
       "1            49500.0             93629              4147.0       32935.0   \n",
       "2            46799.0             84839              4819.0        8229.0   \n",
       "3            87105.0            175232              5821.0       33878.0   \n",
       "4           143873.0            281913              5829.0       86253.0   \n",
       "\n",
       "   Average Household Size State Code                       Race  Count  \n",
       "0                    2.60         MD         Hispanic or Latino  25924  \n",
       "1                    2.39         MA                      White  58723  \n",
       "2                    2.58         AL                      Asian   4759  \n",
       "3                    3.18         CA  Black or African-American  24437  \n",
       "4                    2.73         NJ                      White  76402  "
      ]
     },
     "execution_count": 6,
     "metadata": {},
     "output_type": "execute_result"
    }
   ],
   "source": [
    "df_cities.head()"
   ]
  },
  {
   "cell_type": "code",
   "execution_count": 7,
   "metadata": {
    "editable": true
   },
   "outputs": [],
   "source": [
    "us_state_abbrev = {\n",
    "    'Alabama': 'AL',\n",
    "    'Alaska': 'AK',\n",
    "    'American Samoa': 'AS',\n",
    "    'Arizona': 'AZ',\n",
    "    'Arkansas': 'AR',\n",
    "    'California': 'CA',\n",
    "    'Colorado': 'CO',\n",
    "    'Connecticut': 'CT',\n",
    "    'Delaware': 'DE',\n",
    "    'District of Columbia': 'DC',\n",
    "    'Florida': 'FL',\n",
    "    'Georgia': 'GA',\n",
    "    'Guam': 'GU',\n",
    "    'Hawaii': 'HI',\n",
    "    'Idaho': 'ID',\n",
    "    'Illinois': 'IL',\n",
    "    'Indiana': 'IN',\n",
    "    'Iowa': 'IA',\n",
    "    'Kansas': 'KS',\n",
    "    'Kentucky': 'KY',\n",
    "    'Louisiana': 'LA',\n",
    "    'Maine': 'ME',\n",
    "    'Maryland': 'MD',\n",
    "    'Massachusetts': 'MA',\n",
    "    'Michigan': 'MI',\n",
    "    'Minnesota': 'MN',\n",
    "    'Mississippi': 'MS',\n",
    "    'Missouri': 'MO',\n",
    "    'Montana': 'MT',\n",
    "    'Nebraska': 'NE',\n",
    "    'Nevada': 'NV',\n",
    "    'New Hampshire': 'NH',\n",
    "    'New Jersey': 'NJ',\n",
    "    'New Mexico': 'NM',\n",
    "    'New York': 'NY',\n",
    "    'North Carolina': 'NC',\n",
    "    'North Dakota': 'ND',\n",
    "    'Northern Mariana Islands':'MP',\n",
    "    'Ohio': 'OH',\n",
    "    'Oklahoma': 'OK',\n",
    "    'Oregon': 'OR',\n",
    "    'Pennsylvania': 'PA',\n",
    "    'Puerto Rico': 'PR',\n",
    "    'Rhode Island': 'RI',\n",
    "    'South Carolina': 'SC',\n",
    "    'South Dakota': 'SD',\n",
    "    'Tennessee': 'TN',\n",
    "    'Texas': 'TX',\n",
    "    'Utah': 'UT',\n",
    "    'Vermont': 'VT',\n",
    "    'Virgin Islands': 'VI',\n",
    "    'Virginia': 'VA',\n",
    "    'Washington': 'WA',\n",
    "    'West Virginia': 'WV',\n",
    "    'Wisconsin': 'WI',\n",
    "    'Wyoming': 'WY'\n",
    "}\n"
   ]
  },
  {
   "cell_type": "markdown",
   "metadata": {
    "editable": true
   },
   "source": [
    "Cities looks very clean."
   ]
  },
  {
   "cell_type": "code",
   "execution_count": 8,
   "metadata": {
    "editable": true
   },
   "outputs": [],
   "source": [
    "df_spark =spark.read.format('com.github.saurfang.sas.spark').load('../../data/18-83510-I94-Data-2016/i94_apr16_sub.sas7bdat')"
   ]
  },
  {
   "cell_type": "code",
   "execution_count": 9,
   "metadata": {
    "editable": true
   },
   "outputs": [],
   "source": [
    "#write to parquet\n",
    "df_spark.write.mode('overwrite').parquet(\"sas_data\")\n",
    "df_spark_immigration=spark.read.parquet(\"sas_data\")"
   ]
  },
  {
   "cell_type": "markdown",
   "metadata": {
    "editable": true
   },
   "source": [
    "### Step 2: Explore and Assess the Data\n",
    "#### Explore the Data \n",
    "Identify data quality issues, like missing values, duplicate data, etc.\n",
    "\n",
    "##### <font color='blue'>AIRPORT CODES</font> \n"
   ]
  },
  {
   "cell_type": "code",
   "execution_count": 10,
   "metadata": {
    "editable": true
   },
   "outputs": [
    {
     "name": "stdout",
     "output_type": "stream",
     "text": [
      "(55075, 12)\n"
     ]
    },
    {
     "data": {
      "text/plain": [
       "<matplotlib.axes._subplots.AxesSubplot at 0x7f99800a1668>"
      ]
     },
     "execution_count": 10,
     "metadata": {},
     "output_type": "execute_result"
    },
    {
     "data": {
      "image/png": "[encoded data removed]",
      "text/plain": [
       "<matplotlib.figure.Figure at 0x7f997a76bf28>"
      ]
     },
     "metadata": {
      "needs_background": "light"
     },
     "output_type": "display_data"
    }
   ],
   "source": [
    "print(df_airport_codes.shape)\n",
    "sns.heatmap(df_airport_codes.isnull())\n"
   ]
  },
  {
   "cell_type": "code",
   "execution_count": 11,
   "metadata": {
    "editable": true
   },
   "outputs": [
    {
     "name": "stdout",
     "output_type": "stream",
     "text": [
      "<class 'pandas.core.frame.DataFrame'>\n",
      "RangeIndex: 55075 entries, 0 to 55074\n",
      "Data columns (total 12 columns):\n",
      "ident           55075 non-null object\n",
      "type            55075 non-null object\n",
      "name            55075 non-null object\n",
      "elevation_ft    48069 non-null float64\n",
      "continent       27356 non-null object\n",
      "iso_country     54828 non-null object\n",
      "iso_region      55075 non-null object\n",
      "municipality    49399 non-null object\n",
      "gps_code        41030 non-null object\n",
      "iata_code       9189 non-null object\n",
      "local_code      28686 non-null object\n",
      "coordinates     55075 non-null object\n",
      "dtypes: float64(1), object(11)\n",
      "memory usage: 5.0+ MB\n"
     ]
    }
   ],
   "source": [
    "df_airport_codes.info(null_counts = True)"
   ]
  },
  {
   "cell_type": "code",
   "execution_count": 12,
   "metadata": {
    "editable": true
   },
   "outputs": [
    {
     "data": {
      "text/plain": [
       "3NY7    1\n",
       "FASH    1\n",
       "CAH8    1\n",
       "61IS    1\n",
       "IA87    1\n",
       "Name: ident, dtype: int64"
      ]
     },
     "execution_count": 12,
     "metadata": {},
     "output_type": "execute_result"
    }
   ],
   "source": [
    "# Checking for duplicated id's\n",
    "df_airport_codes['ident'].value_counts(ascending = False).head()"
   ]
  },
  {
   "cell_type": "markdown",
   "metadata": {
    "editable": true
   },
   "source": [
    "It seems all of the ids are unique. That is very good :) \n",
    "\n",
    "Lets now check airport names are also unique:"
   ]
  },
  {
   "cell_type": "code",
   "execution_count": 13,
   "metadata": {
    "editable": true
   },
   "outputs": [
    {
     "data": {
      "text/plain": [
       "Centre Hospitalier Heliport    85\n",
       "Mukho Port Heliport            50\n",
       "Hospital Heliport              19\n",
       "Memorial Hospital Heliport     18\n",
       "Cheonmi-ri South Heliport      16\n",
       "Name: name, dtype: int64"
      ]
     },
     "execution_count": 13,
     "metadata": {},
     "output_type": "execute_result"
    }
   ],
   "source": [
    "\n",
    "df_airport_codes['name'].value_counts(ascending = False).head()\n"
   ]
  },
  {
   "cell_type": "markdown",
   "metadata": {
    "editable": true
   },
   "source": [
    "It seems they are not unique, lets have a deeper look to see if, there are N airports in different places sharing the same names, or N ids pointing at the same airport:"
   ]
  },
  {
   "cell_type": "code",
   "execution_count": 14,
   "metadata": {
    "editable": true
   },
   "outputs": [
    {
     "data": {
      "text/plain": [
       "Saint-Omer      1\n",
       "Saint-Dizier    1\n",
       "Bourges         1\n",
       "Niort           1\n",
       "Soissons        1\n",
       "Name: municipality, dtype: int64"
      ]
     },
     "execution_count": 14,
     "metadata": {},
     "output_type": "execute_result"
    }
   ],
   "source": [
    "centre_hospitalier = df_airport_codes[df_airport_codes['name'] == 'Centre Hospitalier Heliport']\n",
    "centre_hospitalier['municipality'].value_counts(ascending = False).head()"
   ]
  },
  {
   "cell_type": "code",
   "execution_count": 15,
   "metadata": {
    "editable": true
   },
   "outputs": [
    {
     "data": {
      "text/plain": [
       "Mukho    50\n",
       "Name: municipality, dtype: int64"
      ]
     },
     "execution_count": 15,
     "metadata": {},
     "output_type": "execute_result"
    }
   ],
   "source": [
    "mukho = df_airport_codes[df_airport_codes['name'] == 'Mukho Port Heliport']\n",
    "mukho['municipality'].value_counts(ascending = False).head()"
   ]
  },
  {
   "cell_type": "code",
   "execution_count": 16,
   "metadata": {
    "editable": true
   },
   "outputs": [
    {
     "data": {
      "text/html": [
       "<div>\n",
       "<style scoped>\n",
       "    .dataframe tbody tr th:only-of-type {\n",
       "        vertical-align: middle;\n",
       "    }\n",
       "\n",
       "    .dataframe tbody tr th {\n",
       "        vertical-align: top;\n",
       "    }\n",
       "\n",
       "    .dataframe thead th {\n",
       "        text-align: right;\n",
       "    }\n",
       "</style>\n",
       "<table border=\"1\" class=\"dataframe\">\n",
       "  <thead>\n",
       "    <tr style=\"text-align: right;\">\n",
       "      <th></th>\n",
       "      <th>ident</th>\n",
       "      <th>type</th>\n",
       "      <th>name</th>\n",
       "      <th>elevation_ft</th>\n",
       "      <th>continent</th>\n",
       "      <th>iso_country</th>\n",
       "      <th>iso_region</th>\n",
       "      <th>municipality</th>\n",
       "      <th>gps_code</th>\n",
       "      <th>iata_code</th>\n",
       "      <th>local_code</th>\n",
       "      <th>coordinates</th>\n",
       "    </tr>\n",
       "  </thead>\n",
       "  <tbody>\n",
       "    <tr>\n",
       "      <th>28960</th>\n",
       "      <td>KR-0276</td>\n",
       "      <td>heliport</td>\n",
       "      <td>Mukho Port Heliport</td>\n",
       "      <td>NaN</td>\n",
       "      <td>AS</td>\n",
       "      <td>KR</td>\n",
       "      <td>KR-42</td>\n",
       "      <td>Mukho</td>\n",
       "      <td>NaN</td>\n",
       "      <td>NaN</td>\n",
       "      <td>NaN</td>\n",
       "      <td>129.115255, 37.540345</td>\n",
       "    </tr>\n",
       "    <tr>\n",
       "      <th>28933</th>\n",
       "      <td>KR-0249</td>\n",
       "      <td>heliport</td>\n",
       "      <td>Mukho Port Heliport</td>\n",
       "      <td>NaN</td>\n",
       "      <td>AS</td>\n",
       "      <td>KR</td>\n",
       "      <td>KR-42</td>\n",
       "      <td>Mukho</td>\n",
       "      <td>NaN</td>\n",
       "      <td>NaN</td>\n",
       "      <td>NaN</td>\n",
       "      <td>129.115255, 37.540345</td>\n",
       "    </tr>\n",
       "    <tr>\n",
       "      <th>28921</th>\n",
       "      <td>KR-0237</td>\n",
       "      <td>heliport</td>\n",
       "      <td>Mukho Port Heliport</td>\n",
       "      <td>NaN</td>\n",
       "      <td>AS</td>\n",
       "      <td>KR</td>\n",
       "      <td>KR-42</td>\n",
       "      <td>Mukho</td>\n",
       "      <td>NaN</td>\n",
       "      <td>NaN</td>\n",
       "      <td>NaN</td>\n",
       "      <td>129.115255, 37.540345</td>\n",
       "    </tr>\n",
       "    <tr>\n",
       "      <th>28928</th>\n",
       "      <td>KR-0244</td>\n",
       "      <td>heliport</td>\n",
       "      <td>Mukho Port Heliport</td>\n",
       "      <td>NaN</td>\n",
       "      <td>AS</td>\n",
       "      <td>KR</td>\n",
       "      <td>KR-42</td>\n",
       "      <td>Mukho</td>\n",
       "      <td>NaN</td>\n",
       "      <td>NaN</td>\n",
       "      <td>NaN</td>\n",
       "      <td>129.115255, 37.540345</td>\n",
       "    </tr>\n",
       "    <tr>\n",
       "      <th>28929</th>\n",
       "      <td>KR-0245</td>\n",
       "      <td>heliport</td>\n",
       "      <td>Mukho Port Heliport</td>\n",
       "      <td>NaN</td>\n",
       "      <td>AS</td>\n",
       "      <td>KR</td>\n",
       "      <td>KR-42</td>\n",
       "      <td>Mukho</td>\n",
       "      <td>NaN</td>\n",
       "      <td>NaN</td>\n",
       "      <td>NaN</td>\n",
       "      <td>129.115255, 37.540345</td>\n",
       "    </tr>\n",
       "  </tbody>\n",
       "</table>\n",
       "</div>"
      ],
      "text/plain": [
       "         ident      type                 name  elevation_ft continent  \\\n",
       "28960  KR-0276  heliport  Mukho Port Heliport           NaN        AS   \n",
       "28933  KR-0249  heliport  Mukho Port Heliport           NaN        AS   \n",
       "28921  KR-0237  heliport  Mukho Port Heliport           NaN        AS   \n",
       "28928  KR-0244  heliport  Mukho Port Heliport           NaN        AS   \n",
       "28929  KR-0245  heliport  Mukho Port Heliport           NaN        AS   \n",
       "\n",
       "      iso_country iso_region municipality gps_code iata_code local_code  \\\n",
       "28960          KR      KR-42        Mukho      NaN       NaN        NaN   \n",
       "28933          KR      KR-42        Mukho      NaN       NaN        NaN   \n",
       "28921          KR      KR-42        Mukho      NaN       NaN        NaN   \n",
       "28928          KR      KR-42        Mukho      NaN       NaN        NaN   \n",
       "28929          KR      KR-42        Mukho      NaN       NaN        NaN   \n",
       "\n",
       "                 coordinates  \n",
       "28960  129.115255, 37.540345  \n",
       "28933  129.115255, 37.540345  \n",
       "28921  129.115255, 37.540345  \n",
       "28928  129.115255, 37.540345  \n",
       "28929  129.115255, 37.540345  "
      ]
     },
     "execution_count": 16,
     "metadata": {},
     "output_type": "execute_result"
    }
   ],
   "source": [
    "mukho.sample(5)"
   ]
  },
  {
   "cell_type": "code",
   "execution_count": 17,
   "metadata": {
    "editable": true
   },
   "outputs": [
    {
     "data": {
      "text/html": [
       "<div>\n",
       "<style scoped>\n",
       "    .dataframe tbody tr th:only-of-type {\n",
       "        vertical-align: middle;\n",
       "    }\n",
       "\n",
       "    .dataframe tbody tr th {\n",
       "        vertical-align: top;\n",
       "    }\n",
       "\n",
       "    .dataframe thead th {\n",
       "        text-align: right;\n",
       "    }\n",
       "</style>\n",
       "<table border=\"1\" class=\"dataframe\">\n",
       "  <thead>\n",
       "    <tr style=\"text-align: right;\">\n",
       "      <th></th>\n",
       "      <th>ident</th>\n",
       "      <th>type</th>\n",
       "      <th>name</th>\n",
       "      <th>elevation_ft</th>\n",
       "      <th>continent</th>\n",
       "      <th>iso_country</th>\n",
       "      <th>iso_region</th>\n",
       "      <th>municipality</th>\n",
       "      <th>gps_code</th>\n",
       "      <th>iata_code</th>\n",
       "      <th>local_code</th>\n",
       "      <th>coordinates</th>\n",
       "    </tr>\n",
       "  </thead>\n",
       "  <tbody>\n",
       "    <tr>\n",
       "      <th>28917</th>\n",
       "      <td>KR-0233</td>\n",
       "      <td>heliport</td>\n",
       "      <td>Ssangyong East Cement Plant Heliport</td>\n",
       "      <td>NaN</td>\n",
       "      <td>AS</td>\n",
       "      <td>KR</td>\n",
       "      <td>KR-42</td>\n",
       "      <td>Iro-dong (Donghae)</td>\n",
       "      <td>NaN</td>\n",
       "      <td>NaN</td>\n",
       "      <td>NaN</td>\n",
       "      <td>129.064352, 37.487569</td>\n",
       "    </tr>\n",
       "    <tr>\n",
       "      <th>28853</th>\n",
       "      <td>KR-0169</td>\n",
       "      <td>heliport</td>\n",
       "      <td>Sangwon-ri Helipad</td>\n",
       "      <td>NaN</td>\n",
       "      <td>AS</td>\n",
       "      <td>KR</td>\n",
       "      <td>KR-42</td>\n",
       "      <td>Sangwon-ri</td>\n",
       "      <td>NaN</td>\n",
       "      <td>NaN</td>\n",
       "      <td>NaN</td>\n",
       "      <td>128.30156, 38.40695</td>\n",
       "    </tr>\n",
       "    <tr>\n",
       "      <th>29188</th>\n",
       "      <td>KR-0504</td>\n",
       "      <td>heliport</td>\n",
       "      <td>Cheonmi-ri South Heliport</td>\n",
       "      <td>NaN</td>\n",
       "      <td>AS</td>\n",
       "      <td>KR</td>\n",
       "      <td>KR-42</td>\n",
       "      <td>Cheonmi-ri</td>\n",
       "      <td>NaN</td>\n",
       "      <td>NaN</td>\n",
       "      <td>NaN</td>\n",
       "      <td>127.871211, 38.247439</td>\n",
       "    </tr>\n",
       "  </tbody>\n",
       "</table>\n",
       "</div>"
      ],
      "text/plain": [
       "         ident      type                                  name  elevation_ft  \\\n",
       "28917  KR-0233  heliport  Ssangyong East Cement Plant Heliport           NaN   \n",
       "28853  KR-0169  heliport                    Sangwon-ri Helipad           NaN   \n",
       "29188  KR-0504  heliport             Cheonmi-ri South Heliport           NaN   \n",
       "\n",
       "      continent iso_country iso_region        municipality gps_code iata_code  \\\n",
       "28917        AS          KR      KR-42  Iro-dong (Donghae)      NaN       NaN   \n",
       "28853        AS          KR      KR-42          Sangwon-ri      NaN       NaN   \n",
       "29188        AS          KR      KR-42          Cheonmi-ri      NaN       NaN   \n",
       "\n",
       "      local_code            coordinates  \n",
       "28917        NaN  129.064352, 37.487569  \n",
       "28853        NaN    128.30156, 38.40695  \n",
       "29188        NaN  127.871211, 38.247439  "
      ]
     },
     "execution_count": 17,
     "metadata": {},
     "output_type": "execute_result"
    }
   ],
   "source": [
    "df_airport_codes[df_airport_codes['iso_region'] == 'KR-42'].sample(3)\n"
   ]
  },
  {
   "cell_type": "markdown",
   "metadata": {
    "editable": true
   },
   "source": [
    "Interesting, actually both things are happening.\n",
    "\n",
    "Lets now check the iata_codes. We saw before that it has a lot of nulls, lets have a deeper look:"
   ]
  },
  {
   "cell_type": "code",
   "execution_count": 18,
   "metadata": {
    "editable": true
   },
   "outputs": [
    {
     "data": {
      "text/plain": [
       "83.315478892419421"
      ]
     },
     "execution_count": 18,
     "metadata": {},
     "output_type": "execute_result"
    }
   ],
   "source": [
    "(df_airport_codes['iata_code'].isnull().sum() / df_airport_codes.shape[0]) * 100"
   ]
  },
  {
   "cell_type": "markdown",
   "metadata": {
    "editable": true
   },
   "source": [
    "This is not good news, 83% of the iata_codes are empty. This will complicate joining with other datasets.\n",
    "\n",
    "Lets see if the issue is happening to the other codes:"
   ]
  },
  {
   "cell_type": "code",
   "execution_count": 19,
   "metadata": {
    "editable": true
   },
   "outputs": [
    {
     "name": "stdout",
     "output_type": "stream",
     "text": [
      "gps_code:  25.5015887426\n",
      "local_code:  47.9146618248\n"
     ]
    }
   ],
   "source": [
    "gps_code = (df_airport_codes['gps_code'].isnull().sum() / df_airport_codes.shape[0]) * 100\n",
    "local_code = (df_airport_codes['local_code'].isnull().sum() / df_airport_codes.shape[0]) * 100\n",
    "\n",
    "print('gps_code: ',gps_code)\n",
    "print('local_code: ',local_code)"
   ]
  },
  {
   "cell_type": "code",
   "execution_count": null,
   "metadata": {
    "editable": true
   },
   "outputs": [],
   "source": []
  },
  {
   "cell_type": "markdown",
   "metadata": {
    "editable": true
   },
   "source": [
    "<span style=\"color:DarkRed\">\n",
    "\n",
    "Findings:\n",
    "- Missing Continent data\n",
    "- One Airport can have multiple ID's \n",
    "- Multiple airports can share the same name, but not the ID (its unique)\n",
    "- (!) 83% of iata codes are empty, we may have to join by name and/or coordinates and/or location - if local & gps code are not useful.\n",
    "- Airport data could be complimented with external source\n",
    "    \n",
    "</span>"
   ]
  },
  {
   "cell_type": "markdown",
   "metadata": {
    "editable": true
   },
   "source": [
    "##### <font color='blue'>TEMPERATURES</font> "
   ]
  },
  {
   "cell_type": "code",
   "execution_count": 20,
   "metadata": {
    "editable": true
   },
   "outputs": [
    {
     "data": {
      "text/html": [
       "<div>\n",
       "<style scoped>\n",
       "    .dataframe tbody tr th:only-of-type {\n",
       "        vertical-align: middle;\n",
       "    }\n",
       "\n",
       "    .dataframe tbody tr th {\n",
       "        vertical-align: top;\n",
       "    }\n",
       "\n",
       "    .dataframe thead th {\n",
       "        text-align: right;\n",
       "    }\n",
       "</style>\n",
       "<table border=\"1\" class=\"dataframe\">\n",
       "  <thead>\n",
       "    <tr style=\"text-align: right;\">\n",
       "      <th></th>\n",
       "      <th>dt</th>\n",
       "      <th>AverageTemperature</th>\n",
       "      <th>AverageTemperatureUncertainty</th>\n",
       "      <th>City</th>\n",
       "      <th>Country</th>\n",
       "      <th>Latitude</th>\n",
       "      <th>Longitude</th>\n",
       "    </tr>\n",
       "  </thead>\n",
       "  <tbody>\n",
       "    <tr>\n",
       "      <th>865264</th>\n",
       "      <td>1873-02-01</td>\n",
       "      <td>0.747</td>\n",
       "      <td>1.239</td>\n",
       "      <td>Besançon</td>\n",
       "      <td>France</td>\n",
       "      <td>47.42N</td>\n",
       "      <td>5.92E</td>\n",
       "    </tr>\n",
       "    <tr>\n",
       "      <th>5486875</th>\n",
       "      <td>1999-08-01</td>\n",
       "      <td>17.650</td>\n",
       "      <td>0.179</td>\n",
       "      <td>Orël</td>\n",
       "      <td>Russia</td>\n",
       "      <td>52.24N</td>\n",
       "      <td>36.79E</td>\n",
       "    </tr>\n",
       "    <tr>\n",
       "      <th>5080553</th>\n",
       "      <td>1826-06-01</td>\n",
       "      <td>17.507</td>\n",
       "      <td>2.579</td>\n",
       "      <td>Namur</td>\n",
       "      <td>Belgium</td>\n",
       "      <td>50.63N</td>\n",
       "      <td>3.80E</td>\n",
       "    </tr>\n",
       "    <tr>\n",
       "      <th>3718409</th>\n",
       "      <td>1920-06-01</td>\n",
       "      <td>16.756</td>\n",
       "      <td>0.416</td>\n",
       "      <td>Kayseri</td>\n",
       "      <td>Turkey</td>\n",
       "      <td>39.38N</td>\n",
       "      <td>35.38E</td>\n",
       "    </tr>\n",
       "    <tr>\n",
       "      <th>3196855</th>\n",
       "      <td>1993-04-01</td>\n",
       "      <td>28.238</td>\n",
       "      <td>0.102</td>\n",
       "      <td>Inisa</td>\n",
       "      <td>Nigeria</td>\n",
       "      <td>7.23N</td>\n",
       "      <td>4.05E</td>\n",
       "    </tr>\n",
       "  </tbody>\n",
       "</table>\n",
       "</div>"
      ],
      "text/plain": [
       "                dt  AverageTemperature  AverageTemperatureUncertainty  \\\n",
       "865264  1873-02-01               0.747                          1.239   \n",
       "5486875 1999-08-01              17.650                          0.179   \n",
       "5080553 1826-06-01              17.507                          2.579   \n",
       "3718409 1920-06-01              16.756                          0.416   \n",
       "3196855 1993-04-01              28.238                          0.102   \n",
       "\n",
       "             City  Country Latitude Longitude  \n",
       "865264   Besançon   France   47.42N     5.92E  \n",
       "5486875      Orël   Russia   52.24N    36.79E  \n",
       "5080553     Namur  Belgium   50.63N     3.80E  \n",
       "3718409   Kayseri   Turkey   39.38N    35.38E  \n",
       "3196855     Inisa  Nigeria    7.23N     4.05E  "
      ]
     },
     "execution_count": 20,
     "metadata": {},
     "output_type": "execute_result"
    }
   ],
   "source": [
    "df_temperatures.sample(5)"
   ]
  },
  {
   "cell_type": "code",
   "execution_count": 21,
   "metadata": {
    "editable": true
   },
   "outputs": [
    {
     "data": {
      "text/plain": [
       "(8599212, 7)"
      ]
     },
     "execution_count": 21,
     "metadata": {},
     "output_type": "execute_result"
    }
   ],
   "source": [
    "df_temperatures.shape"
   ]
  },
  {
   "cell_type": "markdown",
   "metadata": {
    "editable": true
   },
   "source": [
    "That is a lot of rows, lets understand why by checking the range of dates:"
   ]
  },
  {
   "cell_type": "code",
   "execution_count": 22,
   "metadata": {
    "editable": true
   },
   "outputs": [
    {
     "name": "stdout",
     "output_type": "stream",
     "text": [
      "2013-09-01 00:00:00\n",
      "1743-11-01 00:00:00\n"
     ]
    }
   ],
   "source": [
    "print(df_temperatures['dt'].max())\n",
    "print(df_temperatures['dt'].min())"
   ]
  },
  {
   "cell_type": "markdown",
   "metadata": {
    "editable": true
   },
   "source": [
    "Interesting finding, the daterange does not cover the immigration data range. Something should be done about it, lets take note for now!"
   ]
  },
  {
   "cell_type": "code",
   "execution_count": 23,
   "metadata": {
    "editable": true
   },
   "outputs": [
    {
     "data": {
      "text/html": [
       "<div>\n",
       "<style scoped>\n",
       "    .dataframe tbody tr th:only-of-type {\n",
       "        vertical-align: middle;\n",
       "    }\n",
       "\n",
       "    .dataframe tbody tr th {\n",
       "        vertical-align: top;\n",
       "    }\n",
       "\n",
       "    .dataframe thead th {\n",
       "        text-align: right;\n",
       "    }\n",
       "</style>\n",
       "<table border=\"1\" class=\"dataframe\">\n",
       "  <thead>\n",
       "    <tr style=\"text-align: right;\">\n",
       "      <th></th>\n",
       "      <th>dt</th>\n",
       "      <th>AverageTemperature</th>\n",
       "      <th>AverageTemperatureUncertainty</th>\n",
       "      <th>City</th>\n",
       "      <th>Country</th>\n",
       "      <th>Latitude</th>\n",
       "      <th>Longitude</th>\n",
       "    </tr>\n",
       "  </thead>\n",
       "  <tbody>\n",
       "    <tr>\n",
       "      <th>307425</th>\n",
       "      <td>2010-07-01</td>\n",
       "      <td>23.866</td>\n",
       "      <td>0.183</td>\n",
       "      <td>Angren</td>\n",
       "      <td>Uzbekistan</td>\n",
       "      <td>40.99N</td>\n",
       "      <td>70.30E</td>\n",
       "    </tr>\n",
       "    <tr>\n",
       "      <th>1255016</th>\n",
       "      <td>1852-10-01</td>\n",
       "      <td>20.162</td>\n",
       "      <td>1.413</td>\n",
       "      <td>Cúcuta</td>\n",
       "      <td>Colombia</td>\n",
       "      <td>7.23N</td>\n",
       "      <td>72.16W</td>\n",
       "    </tr>\n",
       "    <tr>\n",
       "      <th>4053670</th>\n",
       "      <td>1935-07-01</td>\n",
       "      <td>16.738</td>\n",
       "      <td>0.221</td>\n",
       "      <td>Kursk</td>\n",
       "      <td>Russia</td>\n",
       "      <td>52.24N</td>\n",
       "      <td>36.79E</td>\n",
       "    </tr>\n",
       "    <tr>\n",
       "      <th>6466120</th>\n",
       "      <td>1862-06-01</td>\n",
       "      <td>17.625</td>\n",
       "      <td>1.785</td>\n",
       "      <td>São Carlos</td>\n",
       "      <td>Brazil</td>\n",
       "      <td>21.70S</td>\n",
       "      <td>47.60W</td>\n",
       "    </tr>\n",
       "    <tr>\n",
       "      <th>3321050</th>\n",
       "      <td>1947-09-01</td>\n",
       "      <td>24.052</td>\n",
       "      <td>0.246</td>\n",
       "      <td>Jaboatão</td>\n",
       "      <td>Brazil</td>\n",
       "      <td>8.84S</td>\n",
       "      <td>34.86W</td>\n",
       "    </tr>\n",
       "  </tbody>\n",
       "</table>\n",
       "</div>"
      ],
      "text/plain": [
       "                dt  AverageTemperature  AverageTemperatureUncertainty  \\\n",
       "307425  2010-07-01              23.866                          0.183   \n",
       "1255016 1852-10-01              20.162                          1.413   \n",
       "4053670 1935-07-01              16.738                          0.221   \n",
       "6466120 1862-06-01              17.625                          1.785   \n",
       "3321050 1947-09-01              24.052                          0.246   \n",
       "\n",
       "               City     Country Latitude Longitude  \n",
       "307425       Angren  Uzbekistan   40.99N    70.30E  \n",
       "1255016      Cúcuta    Colombia    7.23N    72.16W  \n",
       "4053670       Kursk      Russia   52.24N    36.79E  \n",
       "6466120  São Carlos      Brazil   21.70S    47.60W  \n",
       "3321050    Jaboatão      Brazil    8.84S    34.86W  "
      ]
     },
     "execution_count": 23,
     "metadata": {},
     "output_type": "execute_result"
    }
   ],
   "source": [
    "df_temperatures.sample(5)"
   ]
  },
  {
   "cell_type": "markdown",
   "metadata": {
    "editable": true
   },
   "source": [
    "Lets check for duplicated data:"
   ]
  },
  {
   "cell_type": "code",
   "execution_count": 24,
   "metadata": {
    "editable": true
   },
   "outputs": [
    {
     "data": {
      "text/plain": [
       "46034"
      ]
     },
     "execution_count": 24,
     "metadata": {},
     "output_type": "execute_result"
    }
   ],
   "source": [
    "df_temperatures[['dt','City','Country']].duplicated().sum()"
   ]
  },
  {
   "cell_type": "markdown",
   "metadata": {
    "editable": true
   },
   "source": [
    "It seems that at date-city-country there are duplicates, this may occure because one city could have multiple stations. Lets include latitude and longitede and see if there are duplicates:"
   ]
  },
  {
   "cell_type": "code",
   "execution_count": 25,
   "metadata": {
    "editable": true
   },
   "outputs": [
    {
     "data": {
      "text/plain": [
       "0"
      ]
     },
     "execution_count": 25,
     "metadata": {},
     "output_type": "execute_result"
    }
   ],
   "source": [
    "df_temperatures[['dt','City','Country','Latitude','Longitude']].duplicated().sum()"
   ]
  },
  {
   "cell_type": "markdown",
   "metadata": {
    "editable": true
   },
   "source": [
    "Great! there are no duplicates.\n",
    "\n",
    "Lets now inspect if there are data quality issues nulls:"
   ]
  },
  {
   "cell_type": "code",
   "execution_count": 26,
   "metadata": {
    "editable": true
   },
   "outputs": [
    {
     "data": {
      "text/plain": [
       "dt                               0.000000\n",
       "AverageTemperature               4.421692\n",
       "AverageTemperatureUncertainty    4.421692\n",
       "City                             0.000000\n",
       "Country                          0.000000\n",
       "Latitude                         0.000000\n",
       "Longitude                        0.000000\n",
       "dtype: float64"
      ]
     },
     "execution_count": 26,
     "metadata": {},
     "output_type": "execute_result"
    }
   ],
   "source": [
    "df_temperatures.isnull().sum() / df_temperatures.count() * 100"
   ]
  },
  {
   "cell_type": "markdown",
   "metadata": {
    "editable": true
   },
   "source": [
    "It seems that we have some null values in the key column: AverageTemperature    "
   ]
  },
  {
   "cell_type": "code",
   "execution_count": null,
   "metadata": {
    "editable": true
   },
   "outputs": [],
   "source": []
  },
  {
   "cell_type": "markdown",
   "metadata": {
    "editable": true
   },
   "source": [
    "<span style=\"color:DarkRed\">\n",
    "\n",
    "Findings\n",
    "- (!) There is no data for 2016! -> Solution below.\n",
    "- Coordinates are in different format; compared to airports.\n",
    "- df_airport_codes.Municipality == df_temperatures.city?\n",
    "- Data should be provided at airport level.\n",
    "- Nulls in key column: AverageTemperature\n",
    "    \n",
    "    </span>\n",
    "    \n",
    "(!) Interesting, the provided dataset doesnt have data for 2016. Its a great dataset for historical data, however it is not very helful for the kind of data we are providing for our clients.\n",
    "\n",
    "There a few few things we can do:\n",
    "a. Not use tempereture data.\n",
    "b. Look for another data-feed.\n",
    "\n",
    "Lets assume that option A is not possible, because we have already agreed with a client to have the data.\n",
    "B is probably the the best option; however I have spent some time looking around and I couldnt find a suitable data-source. **Hence we are going to opt for option C.**\n",
    "\n",
    "And... option C consist in assuming that we are a real company; the reason we dont have up-to-date data is because there has been a server failure, and the DevOps are working on retreiving the lost data from the Archive; in the meantime, since we are developing the ETL, and not working on the insights, we are going to continue using this dataset. As soon as the correct data is available, we would only need to updated the path.\n"
   ]
  },
  {
   "cell_type": "markdown",
   "metadata": {
    "editable": true
   },
   "source": [
    "##### <font color='blue'>CITIES</font> \n"
   ]
  },
  {
   "cell_type": "code",
   "execution_count": 27,
   "metadata": {
    "editable": true
   },
   "outputs": [
    {
     "name": "stdout",
     "output_type": "stream",
     "text": [
      "(2891, 12)\n"
     ]
    },
    {
     "data": {
      "text/plain": [
       "<matplotlib.axes._subplots.AxesSubplot at 0x7f9980296748>"
      ]
     },
     "execution_count": 27,
     "metadata": {},
     "output_type": "execute_result"
    },
    {
     "data": {
      "image/png": "[encoded data removed]",
      "text/plain": [
       "<matplotlib.figure.Figure at 0x7f9982d744a8>"
      ]
     },
     "metadata": {
      "needs_background": "light"
     },
     "output_type": "display_data"
    }
   ],
   "source": [
    "print(df_cities.shape)\n",
    "sns.heatmap(df_cities.isnull())"
   ]
  },
  {
   "cell_type": "code",
   "execution_count": 28,
   "metadata": {
    "editable": true
   },
   "outputs": [
    {
     "data": {
      "text/html": [
       "<div>\n",
       "<style scoped>\n",
       "    .dataframe tbody tr th:only-of-type {\n",
       "        vertical-align: middle;\n",
       "    }\n",
       "\n",
       "    .dataframe tbody tr th {\n",
       "        vertical-align: top;\n",
       "    }\n",
       "\n",
       "    .dataframe thead th {\n",
       "        text-align: right;\n",
       "    }\n",
       "</style>\n",
       "<table border=\"1\" class=\"dataframe\">\n",
       "  <thead>\n",
       "    <tr style=\"text-align: right;\">\n",
       "      <th></th>\n",
       "      <th>City</th>\n",
       "      <th>State</th>\n",
       "      <th>Median Age</th>\n",
       "      <th>Male Population</th>\n",
       "      <th>Female Population</th>\n",
       "      <th>Total Population</th>\n",
       "      <th>Number of Veterans</th>\n",
       "      <th>Foreign-born</th>\n",
       "      <th>Average Household Size</th>\n",
       "      <th>State Code</th>\n",
       "      <th>Race</th>\n",
       "      <th>Count</th>\n",
       "    </tr>\n",
       "  </thead>\n",
       "  <tbody>\n",
       "    <tr>\n",
       "      <th>111</th>\n",
       "      <td>San Juan</td>\n",
       "      <td>Puerto Rico</td>\n",
       "      <td>41.4</td>\n",
       "      <td>155408.0</td>\n",
       "      <td>186829.0</td>\n",
       "      <td>342237</td>\n",
       "      <td>NaN</td>\n",
       "      <td>NaN</td>\n",
       "      <td>NaN</td>\n",
       "      <td>PR</td>\n",
       "      <td>Hispanic or Latino</td>\n",
       "      <td>335559</td>\n",
       "    </tr>\n",
       "    <tr>\n",
       "      <th>155</th>\n",
       "      <td>Caguas</td>\n",
       "      <td>Puerto Rico</td>\n",
       "      <td>40.4</td>\n",
       "      <td>34743.0</td>\n",
       "      <td>42265.0</td>\n",
       "      <td>77008</td>\n",
       "      <td>NaN</td>\n",
       "      <td>NaN</td>\n",
       "      <td>NaN</td>\n",
       "      <td>PR</td>\n",
       "      <td>Hispanic or Latino</td>\n",
       "      <td>76349</td>\n",
       "    </tr>\n",
       "    <tr>\n",
       "      <th>258</th>\n",
       "      <td>Carolina</td>\n",
       "      <td>Puerto Rico</td>\n",
       "      <td>42.0</td>\n",
       "      <td>64758.0</td>\n",
       "      <td>77308.0</td>\n",
       "      <td>142066</td>\n",
       "      <td>NaN</td>\n",
       "      <td>NaN</td>\n",
       "      <td>NaN</td>\n",
       "      <td>PR</td>\n",
       "      <td>American Indian and Alaska Native</td>\n",
       "      <td>12143</td>\n",
       "    </tr>\n",
       "    <tr>\n",
       "      <th>637</th>\n",
       "      <td>Carolina</td>\n",
       "      <td>Puerto Rico</td>\n",
       "      <td>42.0</td>\n",
       "      <td>64758.0</td>\n",
       "      <td>77308.0</td>\n",
       "      <td>142066</td>\n",
       "      <td>NaN</td>\n",
       "      <td>NaN</td>\n",
       "      <td>NaN</td>\n",
       "      <td>PR</td>\n",
       "      <td>Hispanic or Latino</td>\n",
       "      <td>139967</td>\n",
       "    </tr>\n",
       "    <tr>\n",
       "      <th>1747</th>\n",
       "      <td>San Juan</td>\n",
       "      <td>Puerto Rico</td>\n",
       "      <td>41.4</td>\n",
       "      <td>155408.0</td>\n",
       "      <td>186829.0</td>\n",
       "      <td>342237</td>\n",
       "      <td>NaN</td>\n",
       "      <td>NaN</td>\n",
       "      <td>NaN</td>\n",
       "      <td>PR</td>\n",
       "      <td>American Indian and Alaska Native</td>\n",
       "      <td>4031</td>\n",
       "    </tr>\n",
       "    <tr>\n",
       "      <th>1748</th>\n",
       "      <td>Mayagüez</td>\n",
       "      <td>Puerto Rico</td>\n",
       "      <td>38.1</td>\n",
       "      <td>30799.0</td>\n",
       "      <td>35782.0</td>\n",
       "      <td>66581</td>\n",
       "      <td>NaN</td>\n",
       "      <td>NaN</td>\n",
       "      <td>NaN</td>\n",
       "      <td>PR</td>\n",
       "      <td>Asian</td>\n",
       "      <td>235</td>\n",
       "    </tr>\n",
       "    <tr>\n",
       "      <th>1995</th>\n",
       "      <td>Ponce</td>\n",
       "      <td>Puerto Rico</td>\n",
       "      <td>40.5</td>\n",
       "      <td>56968.0</td>\n",
       "      <td>64615.0</td>\n",
       "      <td>121583</td>\n",
       "      <td>NaN</td>\n",
       "      <td>NaN</td>\n",
       "      <td>NaN</td>\n",
       "      <td>PR</td>\n",
       "      <td>Hispanic or Latino</td>\n",
       "      <td>120705</td>\n",
       "    </tr>\n",
       "    <tr>\n",
       "      <th>2004</th>\n",
       "      <td>Bayamón</td>\n",
       "      <td>Puerto Rico</td>\n",
       "      <td>39.4</td>\n",
       "      <td>80128.0</td>\n",
       "      <td>90131.0</td>\n",
       "      <td>170259</td>\n",
       "      <td>NaN</td>\n",
       "      <td>NaN</td>\n",
       "      <td>NaN</td>\n",
       "      <td>PR</td>\n",
       "      <td>Hispanic or Latino</td>\n",
       "      <td>169155</td>\n",
       "    </tr>\n",
       "    <tr>\n",
       "      <th>2441</th>\n",
       "      <td>San Juan</td>\n",
       "      <td>Puerto Rico</td>\n",
       "      <td>41.4</td>\n",
       "      <td>155408.0</td>\n",
       "      <td>186829.0</td>\n",
       "      <td>342237</td>\n",
       "      <td>NaN</td>\n",
       "      <td>NaN</td>\n",
       "      <td>NaN</td>\n",
       "      <td>PR</td>\n",
       "      <td>Asian</td>\n",
       "      <td>2452</td>\n",
       "    </tr>\n",
       "    <tr>\n",
       "      <th>2589</th>\n",
       "      <td>Guaynabo</td>\n",
       "      <td>Puerto Rico</td>\n",
       "      <td>42.2</td>\n",
       "      <td>33066.0</td>\n",
       "      <td>37426.0</td>\n",
       "      <td>70492</td>\n",
       "      <td>NaN</td>\n",
       "      <td>NaN</td>\n",
       "      <td>NaN</td>\n",
       "      <td>PR</td>\n",
       "      <td>Hispanic or Latino</td>\n",
       "      <td>69936</td>\n",
       "    </tr>\n",
       "    <tr>\n",
       "      <th>2597</th>\n",
       "      <td>Caguas</td>\n",
       "      <td>Puerto Rico</td>\n",
       "      <td>40.4</td>\n",
       "      <td>34743.0</td>\n",
       "      <td>42265.0</td>\n",
       "      <td>77008</td>\n",
       "      <td>NaN</td>\n",
       "      <td>NaN</td>\n",
       "      <td>NaN</td>\n",
       "      <td>PR</td>\n",
       "      <td>American Indian and Alaska Native</td>\n",
       "      <td>624</td>\n",
       "    </tr>\n",
       "    <tr>\n",
       "      <th>2654</th>\n",
       "      <td>Guaynabo</td>\n",
       "      <td>Puerto Rico</td>\n",
       "      <td>42.2</td>\n",
       "      <td>33066.0</td>\n",
       "      <td>37426.0</td>\n",
       "      <td>70492</td>\n",
       "      <td>NaN</td>\n",
       "      <td>NaN</td>\n",
       "      <td>NaN</td>\n",
       "      <td>PR</td>\n",
       "      <td>American Indian and Alaska Native</td>\n",
       "      <td>589</td>\n",
       "    </tr>\n",
       "    <tr>\n",
       "      <th>2746</th>\n",
       "      <td>Mayagüez</td>\n",
       "      <td>Puerto Rico</td>\n",
       "      <td>38.1</td>\n",
       "      <td>30799.0</td>\n",
       "      <td>35782.0</td>\n",
       "      <td>66581</td>\n",
       "      <td>NaN</td>\n",
       "      <td>NaN</td>\n",
       "      <td>NaN</td>\n",
       "      <td>PR</td>\n",
       "      <td>Hispanic or Latino</td>\n",
       "      <td>65521</td>\n",
       "    </tr>\n",
       "  </tbody>\n",
       "</table>\n",
       "</div>"
      ],
      "text/plain": [
       "          City        State  Median Age  Male Population  Female Population  \\\n",
       "111   San Juan  Puerto Rico        41.4         155408.0           186829.0   \n",
       "155     Caguas  Puerto Rico        40.4          34743.0            42265.0   \n",
       "258   Carolina  Puerto Rico        42.0          64758.0            77308.0   \n",
       "637   Carolina  Puerto Rico        42.0          64758.0            77308.0   \n",
       "1747  San Juan  Puerto Rico        41.4         155408.0           186829.0   \n",
       "1748  Mayagüez  Puerto Rico        38.1          30799.0            35782.0   \n",
       "1995     Ponce  Puerto Rico        40.5          56968.0            64615.0   \n",
       "2004   Bayamón  Puerto Rico        39.4          80128.0            90131.0   \n",
       "2441  San Juan  Puerto Rico        41.4         155408.0           186829.0   \n",
       "2589  Guaynabo  Puerto Rico        42.2          33066.0            37426.0   \n",
       "2597    Caguas  Puerto Rico        40.4          34743.0            42265.0   \n",
       "2654  Guaynabo  Puerto Rico        42.2          33066.0            37426.0   \n",
       "2746  Mayagüez  Puerto Rico        38.1          30799.0            35782.0   \n",
       "\n",
       "      Total Population  Number of Veterans  Foreign-born  \\\n",
       "111             342237                 NaN           NaN   \n",
       "155              77008                 NaN           NaN   \n",
       "258             142066                 NaN           NaN   \n",
       "637             142066                 NaN           NaN   \n",
       "1747            342237                 NaN           NaN   \n",
       "1748             66581                 NaN           NaN   \n",
       "1995            121583                 NaN           NaN   \n",
       "2004            170259                 NaN           NaN   \n",
       "2441            342237                 NaN           NaN   \n",
       "2589             70492                 NaN           NaN   \n",
       "2597             77008                 NaN           NaN   \n",
       "2654             70492                 NaN           NaN   \n",
       "2746             66581                 NaN           NaN   \n",
       "\n",
       "      Average Household Size State Code                               Race  \\\n",
       "111                      NaN         PR                 Hispanic or Latino   \n",
       "155                      NaN         PR                 Hispanic or Latino   \n",
       "258                      NaN         PR  American Indian and Alaska Native   \n",
       "637                      NaN         PR                 Hispanic or Latino   \n",
       "1747                     NaN         PR  American Indian and Alaska Native   \n",
       "1748                     NaN         PR                              Asian   \n",
       "1995                     NaN         PR                 Hispanic or Latino   \n",
       "2004                     NaN         PR                 Hispanic or Latino   \n",
       "2441                     NaN         PR                              Asian   \n",
       "2589                     NaN         PR                 Hispanic or Latino   \n",
       "2597                     NaN         PR  American Indian and Alaska Native   \n",
       "2654                     NaN         PR  American Indian and Alaska Native   \n",
       "2746                     NaN         PR                 Hispanic or Latino   \n",
       "\n",
       "       Count  \n",
       "111   335559  \n",
       "155    76349  \n",
       "258    12143  \n",
       "637   139967  \n",
       "1747    4031  \n",
       "1748     235  \n",
       "1995  120705  \n",
       "2004  169155  \n",
       "2441    2452  \n",
       "2589   69936  \n",
       "2597     624  \n",
       "2654     589  \n",
       "2746   65521  "
      ]
     },
     "execution_count": 28,
     "metadata": {},
     "output_type": "execute_result"
    }
   ],
   "source": [
    "df_cities[df_cities['Foreign-born'].isnull()]"
   ]
  },
  {
   "cell_type": "markdown",
   "metadata": {
    "editable": true
   },
   "source": [
    "There are some nulls on non-key columns, hence we will keep the dataset as it is."
   ]
  },
  {
   "cell_type": "code",
   "execution_count": 29,
   "metadata": {
    "editable": true
   },
   "outputs": [
    {
     "data": {
      "text/html": [
       "<div>\n",
       "<style scoped>\n",
       "    .dataframe tbody tr th:only-of-type {\n",
       "        vertical-align: middle;\n",
       "    }\n",
       "\n",
       "    .dataframe tbody tr th {\n",
       "        vertical-align: top;\n",
       "    }\n",
       "\n",
       "    .dataframe thead th {\n",
       "        text-align: right;\n",
       "    }\n",
       "</style>\n",
       "<table border=\"1\" class=\"dataframe\">\n",
       "  <thead>\n",
       "    <tr style=\"text-align: right;\">\n",
       "      <th></th>\n",
       "      <th>City</th>\n",
       "      <th>State</th>\n",
       "      <th>Median Age</th>\n",
       "      <th>Male Population</th>\n",
       "      <th>Female Population</th>\n",
       "      <th>Total Population</th>\n",
       "      <th>Number of Veterans</th>\n",
       "      <th>Foreign-born</th>\n",
       "      <th>Average Household Size</th>\n",
       "      <th>State Code</th>\n",
       "      <th>Race</th>\n",
       "      <th>Count</th>\n",
       "    </tr>\n",
       "  </thead>\n",
       "  <tbody>\n",
       "    <tr>\n",
       "      <th>384</th>\n",
       "      <td>Arvada</td>\n",
       "      <td>Colorado</td>\n",
       "      <td>41.0</td>\n",
       "      <td>54870.0</td>\n",
       "      <td>60165.0</td>\n",
       "      <td>115035</td>\n",
       "      <td>8930.0</td>\n",
       "      <td>4921.0</td>\n",
       "      <td>2.49</td>\n",
       "      <td>CO</td>\n",
       "      <td>Hispanic or Latino</td>\n",
       "      <td>16419</td>\n",
       "    </tr>\n",
       "    <tr>\n",
       "      <th>366</th>\n",
       "      <td>Kansas City</td>\n",
       "      <td>Missouri</td>\n",
       "      <td>35.9</td>\n",
       "      <td>228430.0</td>\n",
       "      <td>246931.0</td>\n",
       "      <td>475361</td>\n",
       "      <td>24710.0</td>\n",
       "      <td>37787.0</td>\n",
       "      <td>2.35</td>\n",
       "      <td>MO</td>\n",
       "      <td>Hispanic or Latino</td>\n",
       "      <td>46037</td>\n",
       "    </tr>\n",
       "    <tr>\n",
       "      <th>2127</th>\n",
       "      <td>Jacksonville</td>\n",
       "      <td>Florida</td>\n",
       "      <td>35.7</td>\n",
       "      <td>419203.0</td>\n",
       "      <td>448828.0</td>\n",
       "      <td>868031</td>\n",
       "      <td>75432.0</td>\n",
       "      <td>85650.0</td>\n",
       "      <td>2.62</td>\n",
       "      <td>FL</td>\n",
       "      <td>Asian</td>\n",
       "      <td>50895</td>\n",
       "    </tr>\n",
       "    <tr>\n",
       "      <th>1782</th>\n",
       "      <td>O'Fallon</td>\n",
       "      <td>Missouri</td>\n",
       "      <td>36.0</td>\n",
       "      <td>41762.0</td>\n",
       "      <td>43270.0</td>\n",
       "      <td>85032</td>\n",
       "      <td>5783.0</td>\n",
       "      <td>3269.0</td>\n",
       "      <td>2.77</td>\n",
       "      <td>MO</td>\n",
       "      <td>Asian</td>\n",
       "      <td>3447</td>\n",
       "    </tr>\n",
       "    <tr>\n",
       "      <th>1522</th>\n",
       "      <td>Joliet</td>\n",
       "      <td>Illinois</td>\n",
       "      <td>33.1</td>\n",
       "      <td>70863.0</td>\n",
       "      <td>79162.0</td>\n",
       "      <td>150025</td>\n",
       "      <td>7353.0</td>\n",
       "      <td>22409.0</td>\n",
       "      <td>3.13</td>\n",
       "      <td>IL</td>\n",
       "      <td>White</td>\n",
       "      <td>106160</td>\n",
       "    </tr>\n",
       "  </tbody>\n",
       "</table>\n",
       "</div>"
      ],
      "text/plain": [
       "              City     State  Median Age  Male Population  Female Population  \\\n",
       "384         Arvada  Colorado        41.0          54870.0            60165.0   \n",
       "366    Kansas City  Missouri        35.9         228430.0           246931.0   \n",
       "2127  Jacksonville   Florida        35.7         419203.0           448828.0   \n",
       "1782      O'Fallon  Missouri        36.0          41762.0            43270.0   \n",
       "1522        Joliet  Illinois        33.1          70863.0            79162.0   \n",
       "\n",
       "      Total Population  Number of Veterans  Foreign-born  \\\n",
       "384             115035              8930.0        4921.0   \n",
       "366             475361             24710.0       37787.0   \n",
       "2127            868031             75432.0       85650.0   \n",
       "1782             85032              5783.0        3269.0   \n",
       "1522            150025              7353.0       22409.0   \n",
       "\n",
       "      Average Household Size State Code                Race   Count  \n",
       "384                     2.49         CO  Hispanic or Latino   16419  \n",
       "366                     2.35         MO  Hispanic or Latino   46037  \n",
       "2127                    2.62         FL               Asian   50895  \n",
       "1782                    2.77         MO               Asian    3447  \n",
       "1522                    3.13         IL               White  106160  "
      ]
     },
     "execution_count": 29,
     "metadata": {},
     "output_type": "execute_result"
    }
   ],
   "source": [
    "df_cities.sample(5)"
   ]
  },
  {
   "cell_type": "code",
   "execution_count": 30,
   "metadata": {
    "editable": true
   },
   "outputs": [
    {
     "data": {
      "text/plain": [
       "2295"
      ]
     },
     "execution_count": 30,
     "metadata": {},
     "output_type": "execute_result"
    }
   ],
   "source": [
    "df_cities[['City','State']].duplicated().sum()"
   ]
  },
  {
   "cell_type": "markdown",
   "metadata": {
    "editable": true
   },
   "source": [
    "That seems to be a lot of duplicates"
   ]
  },
  {
   "cell_type": "code",
   "execution_count": 31,
   "metadata": {
    "editable": true
   },
   "outputs": [
    {
     "data": {
      "text/html": [
       "<div>\n",
       "<style scoped>\n",
       "    .dataframe tbody tr th:only-of-type {\n",
       "        vertical-align: middle;\n",
       "    }\n",
       "\n",
       "    .dataframe tbody tr th {\n",
       "        vertical-align: top;\n",
       "    }\n",
       "\n",
       "    .dataframe thead th {\n",
       "        text-align: right;\n",
       "    }\n",
       "</style>\n",
       "<table border=\"1\" class=\"dataframe\">\n",
       "  <thead>\n",
       "    <tr style=\"text-align: right;\">\n",
       "      <th></th>\n",
       "      <th>City</th>\n",
       "      <th>State</th>\n",
       "      <th>Median Age</th>\n",
       "      <th>Male Population</th>\n",
       "      <th>Female Population</th>\n",
       "      <th>Total Population</th>\n",
       "      <th>Number of Veterans</th>\n",
       "      <th>Foreign-born</th>\n",
       "      <th>Average Household Size</th>\n",
       "      <th>State Code</th>\n",
       "      <th>Race</th>\n",
       "      <th>Count</th>\n",
       "    </tr>\n",
       "  </thead>\n",
       "  <tbody>\n",
       "    <tr>\n",
       "      <th>1063</th>\n",
       "      <td>Birmingham</td>\n",
       "      <td>Alabama</td>\n",
       "      <td>35.6</td>\n",
       "      <td>102122.0</td>\n",
       "      <td>112789.0</td>\n",
       "      <td>214911</td>\n",
       "      <td>13212.0</td>\n",
       "      <td>8258.0</td>\n",
       "      <td>2.21</td>\n",
       "      <td>AL</td>\n",
       "      <td>American Indian and Alaska Native</td>\n",
       "      <td>1319</td>\n",
       "    </tr>\n",
       "    <tr>\n",
       "      <th>2025</th>\n",
       "      <td>Birmingham</td>\n",
       "      <td>Alabama</td>\n",
       "      <td>35.6</td>\n",
       "      <td>102122.0</td>\n",
       "      <td>112789.0</td>\n",
       "      <td>214911</td>\n",
       "      <td>13212.0</td>\n",
       "      <td>8258.0</td>\n",
       "      <td>2.21</td>\n",
       "      <td>AL</td>\n",
       "      <td>White</td>\n",
       "      <td>51728</td>\n",
       "    </tr>\n",
       "    <tr>\n",
       "      <th>2231</th>\n",
       "      <td>Birmingham</td>\n",
       "      <td>Alabama</td>\n",
       "      <td>35.6</td>\n",
       "      <td>102122.0</td>\n",
       "      <td>112789.0</td>\n",
       "      <td>214911</td>\n",
       "      <td>13212.0</td>\n",
       "      <td>8258.0</td>\n",
       "      <td>2.21</td>\n",
       "      <td>AL</td>\n",
       "      <td>Black or African-American</td>\n",
       "      <td>157985</td>\n",
       "    </tr>\n",
       "    <tr>\n",
       "      <th>2627</th>\n",
       "      <td>Birmingham</td>\n",
       "      <td>Alabama</td>\n",
       "      <td>35.6</td>\n",
       "      <td>102122.0</td>\n",
       "      <td>112789.0</td>\n",
       "      <td>214911</td>\n",
       "      <td>13212.0</td>\n",
       "      <td>8258.0</td>\n",
       "      <td>2.21</td>\n",
       "      <td>AL</td>\n",
       "      <td>Hispanic or Latino</td>\n",
       "      <td>8940</td>\n",
       "    </tr>\n",
       "    <tr>\n",
       "      <th>500</th>\n",
       "      <td>Dothan</td>\n",
       "      <td>Alabama</td>\n",
       "      <td>38.9</td>\n",
       "      <td>32172.0</td>\n",
       "      <td>35364.0</td>\n",
       "      <td>67536</td>\n",
       "      <td>6334.0</td>\n",
       "      <td>1699.0</td>\n",
       "      <td>2.59</td>\n",
       "      <td>AL</td>\n",
       "      <td>Hispanic or Latino</td>\n",
       "      <td>1704</td>\n",
       "    </tr>\n",
       "    <tr>\n",
       "      <th>1064</th>\n",
       "      <td>Dothan</td>\n",
       "      <td>Alabama</td>\n",
       "      <td>38.9</td>\n",
       "      <td>32172.0</td>\n",
       "      <td>35364.0</td>\n",
       "      <td>67536</td>\n",
       "      <td>6334.0</td>\n",
       "      <td>1699.0</td>\n",
       "      <td>2.59</td>\n",
       "      <td>AL</td>\n",
       "      <td>Black or African-American</td>\n",
       "      <td>23243</td>\n",
       "    </tr>\n",
       "    <tr>\n",
       "      <th>1580</th>\n",
       "      <td>Dothan</td>\n",
       "      <td>Alabama</td>\n",
       "      <td>38.9</td>\n",
       "      <td>32172.0</td>\n",
       "      <td>35364.0</td>\n",
       "      <td>67536</td>\n",
       "      <td>6334.0</td>\n",
       "      <td>1699.0</td>\n",
       "      <td>2.59</td>\n",
       "      <td>AL</td>\n",
       "      <td>White</td>\n",
       "      <td>43516</td>\n",
       "    </tr>\n",
       "    <tr>\n",
       "      <th>1925</th>\n",
       "      <td>Dothan</td>\n",
       "      <td>Alabama</td>\n",
       "      <td>38.9</td>\n",
       "      <td>32172.0</td>\n",
       "      <td>35364.0</td>\n",
       "      <td>67536</td>\n",
       "      <td>6334.0</td>\n",
       "      <td>1699.0</td>\n",
       "      <td>2.59</td>\n",
       "      <td>AL</td>\n",
       "      <td>American Indian and Alaska Native</td>\n",
       "      <td>656</td>\n",
       "    </tr>\n",
       "    <tr>\n",
       "      <th>960</th>\n",
       "      <td>Hoover</td>\n",
       "      <td>Alabama</td>\n",
       "      <td>38.5</td>\n",
       "      <td>38040.0</td>\n",
       "      <td>46799.0</td>\n",
       "      <td>84839</td>\n",
       "      <td>4819.0</td>\n",
       "      <td>8229.0</td>\n",
       "      <td>2.58</td>\n",
       "      <td>AL</td>\n",
       "      <td>Black or African-American</td>\n",
       "      <td>18191</td>\n",
       "    </tr>\n",
       "    <tr>\n",
       "      <th>1410</th>\n",
       "      <td>Hoover</td>\n",
       "      <td>Alabama</td>\n",
       "      <td>38.5</td>\n",
       "      <td>38040.0</td>\n",
       "      <td>46799.0</td>\n",
       "      <td>84839</td>\n",
       "      <td>4819.0</td>\n",
       "      <td>8229.0</td>\n",
       "      <td>2.58</td>\n",
       "      <td>AL</td>\n",
       "      <td>Hispanic or Latino</td>\n",
       "      <td>3430</td>\n",
       "    </tr>\n",
       "  </tbody>\n",
       "</table>\n",
       "</div>"
      ],
      "text/plain": [
       "            City    State  Median Age  Male Population  Female Population  \\\n",
       "1063  Birmingham  Alabama        35.6         102122.0           112789.0   \n",
       "2025  Birmingham  Alabama        35.6         102122.0           112789.0   \n",
       "2231  Birmingham  Alabama        35.6         102122.0           112789.0   \n",
       "2627  Birmingham  Alabama        35.6         102122.0           112789.0   \n",
       "500       Dothan  Alabama        38.9          32172.0            35364.0   \n",
       "1064      Dothan  Alabama        38.9          32172.0            35364.0   \n",
       "1580      Dothan  Alabama        38.9          32172.0            35364.0   \n",
       "1925      Dothan  Alabama        38.9          32172.0            35364.0   \n",
       "960       Hoover  Alabama        38.5          38040.0            46799.0   \n",
       "1410      Hoover  Alabama        38.5          38040.0            46799.0   \n",
       "\n",
       "      Total Population  Number of Veterans  Foreign-born  \\\n",
       "1063            214911             13212.0        8258.0   \n",
       "2025            214911             13212.0        8258.0   \n",
       "2231            214911             13212.0        8258.0   \n",
       "2627            214911             13212.0        8258.0   \n",
       "500              67536              6334.0        1699.0   \n",
       "1064             67536              6334.0        1699.0   \n",
       "1580             67536              6334.0        1699.0   \n",
       "1925             67536              6334.0        1699.0   \n",
       "960              84839              4819.0        8229.0   \n",
       "1410             84839              4819.0        8229.0   \n",
       "\n",
       "      Average Household Size State Code                               Race  \\\n",
       "1063                    2.21         AL  American Indian and Alaska Native   \n",
       "2025                    2.21         AL                              White   \n",
       "2231                    2.21         AL          Black or African-American   \n",
       "2627                    2.21         AL                 Hispanic or Latino   \n",
       "500                     2.59         AL                 Hispanic or Latino   \n",
       "1064                    2.59         AL          Black or African-American   \n",
       "1580                    2.59         AL                              White   \n",
       "1925                    2.59         AL  American Indian and Alaska Native   \n",
       "960                     2.58         AL          Black or African-American   \n",
       "1410                    2.58         AL                 Hispanic or Latino   \n",
       "\n",
       "       Count  \n",
       "1063    1319  \n",
       "2025   51728  \n",
       "2231  157985  \n",
       "2627    8940  \n",
       "500     1704  \n",
       "1064   23243  \n",
       "1580   43516  \n",
       "1925     656  \n",
       "960    18191  \n",
       "1410    3430  "
      ]
     },
     "execution_count": 31,
     "metadata": {},
     "output_type": "execute_result"
    }
   ],
   "source": [
    "df_cities[df_cities[['City','State']].duplicated()].sort_values(['State','City']).head(10)"
   ]
  },
  {
   "cell_type": "markdown",
   "metadata": {
    "editable": true
   },
   "source": [
    "Ok, it seems that the aggregation level of the dataset ios City, State and Race. Good information."
   ]
  },
  {
   "cell_type": "markdown",
   "metadata": {
    "editable": true
   },
   "source": [
    "<span style=\"color:DarkRed\">\n",
    "\n",
    "Findings\n",
    "- The dataset seems that has already been processed and it can be of use.\n",
    "- The main issue is that we dont have coordenates, this may be an issue for joining with other datasets. We may need to enrich it\n",
    "    \n",
    "    </span>\n"
   ]
  },
  {
   "cell_type": "markdown",
   "metadata": {
    "editable": true
   },
   "source": [
    "##### <font color='blue'>IMMIGRATION</font> \n"
   ]
  },
  {
   "cell_type": "markdown",
   "metadata": {
    "editable": true
   },
   "source": [
    "First, lets check for duplicated rows, taking into account all columns:"
   ]
  },
  {
   "cell_type": "code",
   "execution_count": 32,
   "metadata": {
    "editable": true
   },
   "outputs": [
    {
     "data": {
      "text/plain": [
       "0"
      ]
     },
     "execution_count": 32,
     "metadata": {},
     "output_type": "execute_result"
    }
   ],
   "source": [
    "df_spark_immigration.dropDuplicates().count()-df_spark_immigration.count()"
   ]
  },
  {
   "cell_type": "markdown",
   "metadata": {
    "editable": true
   },
   "source": [
    "Great starting point, no duplicates taking into account all the columns. Lets check for nulls:"
   ]
  },
  {
   "cell_type": "code",
   "execution_count": 33,
   "metadata": {
    "editable": true
   },
   "outputs": [],
   "source": [
    "def count_null (df, columns):\n",
    "    total = df.count()\n",
    "    for c in columns:\n",
    "        null_count = df.filter(f'{c} is null').count()\n",
    "        print(c, \" -> \", null_count, \" : \" , round((null_count/total)*100, 3), '%')"
   ]
  },
  {
   "cell_type": "code",
   "execution_count": 34,
   "metadata": {
    "editable": true
   },
   "outputs": [
    {
     "name": "stdout",
     "output_type": "stream",
     "text": [
      "cicid  ->  0  :  0.0 %\n",
      "i94yr  ->  0  :  0.0 %\n",
      "i94mon  ->  0  :  0.0 %\n",
      "i94cit  ->  0  :  0.0 %\n",
      "i94res  ->  0  :  0.0 %\n",
      "i94port  ->  0  :  0.0 %\n",
      "arrdate  ->  0  :  0.0 %\n",
      "i94mode  ->  239  :  0.008 %\n",
      "i94addr  ->  152592  :  4.928 %\n",
      "depdate  ->  142457  :  4.601 %\n",
      "i94bir  ->  802  :  0.026 %\n",
      "i94visa  ->  0  :  0.0 %\n",
      "count  ->  0  :  0.0 %\n",
      "dtadfile  ->  1  :  0.0 %\n",
      "visapost  ->  1881250  :  60.758 %\n",
      "occup  ->  3088187  :  99.738 %\n",
      "entdepa  ->  238  :  0.008 %\n",
      "entdepd  ->  138429  :  4.471 %\n",
      "entdepu  ->  3095921  :  99.987 %\n",
      "matflag  ->  138429  :  4.471 %\n",
      "biryear  ->  802  :  0.026 %\n",
      "dtaddto  ->  477  :  0.015 %\n",
      "gender  ->  414269  :  13.379 %\n",
      "insnum  ->  2982605  :  96.328 %\n",
      "airline  ->  83627  :  2.701 %\n",
      "admnum  ->  0  :  0.0 %\n",
      "fltno  ->  19549  :  0.631 %\n",
      "visatype  ->  0  :  0.0 %\n"
     ]
    }
   ],
   "source": [
    "count_null(df_spark_immigration,df_spark_immigration.columns )"
   ]
  },
  {
   "cell_type": "markdown",
   "metadata": {
    "editable": true
   },
   "source": [
    "Some clolumsn need to be further inspected, since they have a significant amount of nulls: visapost, occup, entdepu, insnum. \n",
    "\n",
    "Lets check the data quality:"
   ]
  },
  {
   "cell_type": "code",
   "execution_count": 35,
   "metadata": {
    "editable": true
   },
   "outputs": [
    {
     "name": "stdout",
     "output_type": "stream",
     "text": [
      "+---------+------+------+------+------+-------+-------+-------+-------+-------+------+-------+-----+--------+--------+-----+-------+-------+-------+-------+-------+--------+------+------+-------+--------------+-----+--------+\n",
      "|    cicid| i94yr|i94mon|i94cit|i94res|i94port|arrdate|i94mode|i94addr|depdate|i94bir|i94visa|count|dtadfile|visapost|occup|entdepa|entdepd|entdepu|matflag|biryear| dtaddto|gender|insnum|airline|        admnum|fltno|visatype|\n",
      "+---------+------+------+------+------+-------+-------+-------+-------+-------+------+-------+-----+--------+--------+-----+-------+-------+-------+-------+-------+--------+------+------+-------+--------------+-----+--------+\n",
      "|5748518.0|2016.0|   4.0| 245.0| 438.0|    LOS|20574.0|    1.0|     NV|20591.0|  32.0|    1.0|  1.0|20160430|     SYD| null|      G|      O|   null|      M| 1984.0|10292016|     F|  null|     VA|9.495562283E10|00007|      B1|\n",
      "|5748525.0|2016.0|   4.0| 245.0| 464.0|    HOU|20574.0|    1.0|     FL|20581.0|  27.0|    2.0|  1.0|20160430|     ACK| null|      G|      O|   null|      M| 1989.0|10292016|     M|  null|     NZ|9.497324663E10|00028|      B2|\n",
      "|5748526.0|2016.0|   4.0| 245.0| 464.0|    LOS|20574.0|    1.0|     CA|20581.0|  26.0|    2.0|  1.0|20160430|     ACK| null|      G|      O|   null|      M| 1990.0|10292016|     F|  null|     NZ|9.501354793E10|00002|      B2|\n",
      "|5748527.0|2016.0|   4.0| 245.0| 504.0|    NEW|20574.0|    1.0|     MA|20576.0|  44.0|    2.0|  1.0|20160430|     GUZ| null|      G|      O|   null|      M| 1972.0|10292016|     M|  null|     UA|9.493828593E10|01215|      B2|\n",
      "|5748530.0|2016.0|   4.0| 245.0| 504.0|    LOS|20574.0|    1.0|     CA|20577.0|  56.0|    2.0|  1.0|20160430|     PNM| null|      G|      O|   null|      M| 1960.0|10292016|     F|  null|     CM|9.492648103E10|00302|      B2|\n",
      "|5748532.0|2016.0|   4.0| 245.0| 504.0|    MIA|20574.0|    1.0|     FL|20581.0|  53.0|    2.0|  1.0|20160430|     PNM| null|      G|      O|   null|      M| 1963.0|10292016|     F|  null|     CM|9.500640513E10|00430|      B2|\n",
      "|5748534.0|2016.0|   4.0| 245.0| 528.0|    SFR|20574.0|    1.0|     CA|   null|  84.0|    2.0|  1.0|20160430|     HNK| null|      G|   null|   null|   null| 1932.0|10282016|     F|  null|     CX|9.492476223E10|00872|      B2|\n",
      "|5748876.0|2016.0|   4.0| 245.0| 582.0|    HOU|20574.0|    1.0|     TX|20583.0|  43.0|    1.0|  1.0|20160430|     GUZ| null|      G|      O|   null|      M| 1973.0|10292016|     M|  null|     UA|9.499463063E10|05574|      B1|\n",
      "|5748881.0|2016.0|   4.0| 245.0| 582.0|    LOS|20574.0|    1.0|     CA|20575.0|  34.0|    2.0|  1.0|20160430|     SHG| null|      G|      O|   null|      M| 1982.0|10292016|     M|  null|     AM|9.496770903E10|00646|      B2|\n",
      "|5748885.0|2016.0|   4.0| 245.0| 690.0|    DAL|20574.0|    1.0|     NV|20578.0|  30.0|    2.0|  1.0|20160430|     SNT| null|      G|      O|   null|      M| 1986.0|10292016|     F|  null|     AA|9.494177293E10|00940|      B2|\n",
      "|5748886.0|2016.0|   4.0| 245.0| 691.0|    NYC|20573.0|    1.0|     NY|20575.0|  28.0|    2.0|  1.0|20160430|    null| null|      G|      O|   null|      M| 1988.0|10282016|     F|  null|     AV|9.492793583E10|00020|      B2|\n",
      "|5748894.0|2016.0|   4.0| 245.0| 696.0|    MIA|20574.0|    1.0|     FL|20582.0|  40.0|    2.0|  1.0|20160430|     CRS| null|      G|      N|   null|      M| 1976.0|10292016|     F|  null|     S3|9.495881193E10|01515|      B2|\n",
      "|5748895.0|2016.0|   4.0| 245.0| 696.0|    MIA|20574.0|    1.0|     FL|20582.0|  18.0|    2.0|  1.0|20160430|     CRS| null|      G|      N|   null|      M| 1998.0|10292016|     M|  null|     S3|9.495891633E10|01515|      B2|\n",
      "|5748896.0|2016.0|   4.0| 245.0| 696.0|    SFR|20574.0|    1.0|     CA|20579.0|  32.0|    2.0|  1.0|20160430|     CRS| null|      G|      O|   null|      M| 1984.0|10282016|     M|  null|     AM|9.492479253E10|00664|      B2|\n",
      "|5748899.0|2016.0|   4.0| 245.0| 245.0|    CHI|20573.0|    1.0|     IL|20598.0|  45.0|    2.0|  1.0|20160430|    null| null|      G|      O|   null|      M| 1971.0|10282016|     F|  null|     LO|9.492868293E10|00003|      B2|\n",
      "|5748900.0|2016.0|   4.0| 245.0| 245.0|    TOR|20573.0|    1.0|     CA|20578.0|  24.0|    2.0|  1.0|20160430|    null| null|      G|      R|   null|      M| 1992.0|10282016|     F|  null|     AC|9.492858483E10|00791|      B2|\n",
      "|5748901.0|2016.0|   4.0| 245.0| 245.0|    TOR|20573.0|    1.0|     IL|20577.0|  22.0|    2.0|  1.0|20160430|    null| null|      G|      O|   null|      M| 1994.0|10282016|     F|  null|     RS|9.492894503E10|07647|      B2|\n",
      "|5748902.0|2016.0|   4.0| 249.0| 110.0|    NYC|20574.0|    1.0|     FL|20578.0|  35.0|    2.0|  1.0|20160430|     HLS| null|      G|      O|   null|      M| 1981.0|10292016|     M|  null|     AY|9.499489003E10|00005|      B2|\n",
      "|5748903.0|2016.0|   4.0| 249.0| 111.0|    SFR|20574.0|    1.0|     CA|20625.0|  19.0|    3.0|  1.0|20160430|     PRS| null|      G|      O|   null|      M| 1997.0|     D/S|     F|  null|     AF|9.499984463E10|00084|      F1|\n",
      "|5748905.0|2016.0|   4.0| 249.0| 112.0|    WAS|20574.0|    1.0|     VA|20580.0|  33.0|    1.0|  1.0|20160430|     MUN| null|      G|      O|   null|      M| 1983.0|10292016|     M|  null|     LH|9.500034793E10|00418|      B1|\n",
      "+---------+------+------+------+------+-------+-------+-------+-------+-------+------+-------+-----+--------+--------+-----+-------+-------+-------+-------+-------+--------+------+------+-------+--------------+-----+--------+\n",
      "only showing top 20 rows\n",
      "\n"
     ]
    }
   ],
   "source": [
    "df_spark_immigration.sample(False, 0.5, seed=0).show()"
   ]
  },
  {
   "cell_type": "code",
   "execution_count": 36,
   "metadata": {
    "editable": true
   },
   "outputs": [
    {
     "name": "stdout",
     "output_type": "stream",
     "text": [
      "root\n",
      " |-- cicid: double (nullable = true)\n",
      " |-- i94yr: double (nullable = true)\n",
      " |-- i94mon: double (nullable = true)\n",
      " |-- i94cit: double (nullable = true)\n",
      " |-- i94res: double (nullable = true)\n",
      " |-- i94port: string (nullable = true)\n",
      " |-- arrdate: double (nullable = true)\n",
      " |-- i94mode: double (nullable = true)\n",
      " |-- i94addr: string (nullable = true)\n",
      " |-- depdate: double (nullable = true)\n",
      " |-- i94bir: double (nullable = true)\n",
      " |-- i94visa: double (nullable = true)\n",
      " |-- count: double (nullable = true)\n",
      " |-- dtadfile: string (nullable = true)\n",
      " |-- visapost: string (nullable = true)\n",
      " |-- occup: string (nullable = true)\n",
      " |-- entdepa: string (nullable = true)\n",
      " |-- entdepd: string (nullable = true)\n",
      " |-- entdepu: string (nullable = true)\n",
      " |-- matflag: string (nullable = true)\n",
      " |-- biryear: double (nullable = true)\n",
      " |-- dtaddto: string (nullable = true)\n",
      " |-- gender: string (nullable = true)\n",
      " |-- insnum: string (nullable = true)\n",
      " |-- airline: string (nullable = true)\n",
      " |-- admnum: double (nullable = true)\n",
      " |-- fltno: string (nullable = true)\n",
      " |-- visatype: string (nullable = true)\n",
      "\n"
     ]
    }
   ],
   "source": [
    "df_spark_immigration.printSchema()"
   ]
  },
  {
   "cell_type": "code",
   "execution_count": null,
   "metadata": {
    "editable": true
   },
   "outputs": [],
   "source": []
  },
  {
   "cell_type": "markdown",
   "metadata": {
    "editable": true
   },
   "source": [
    "<span style=\"color:DarkRed\">\n",
    "\n",
    "Findings\n",
    "- Data types will need to be corrected\n",
    "- Dates need to be parsed to int or date: ['i94yr','i94mon','arrdate','depdate','dtadfile','biryear','dtaddto']\n",
    "- Columns ['occup','insnum', 'entdepu'] dont hold information\n",
    "    \n",
    "    </span>\n"
   ]
  },
  {
   "cell_type": "markdown",
   "metadata": {
    "editable": true
   },
   "source": [
    "# Performing cleaning tasks here\n",
    "\n",
    "\n",
    "\n"
   ]
  },
  {
   "cell_type": "markdown",
   "metadata": {
    "editable": true
   },
   "source": [
    "#### Cleaning Steps"
   ]
  },
  {
   "cell_type": "markdown",
   "metadata": {
    "editable": true
   },
   "source": [
    "##### <font color='blue'>IMMIGRATION</font> "
   ]
  },
  {
   "cell_type": "code",
   "execution_count": 37,
   "metadata": {
    "editable": true
   },
   "outputs": [],
   "source": [
    "df_spark_immigration = df_spark_immigration.drop('occup').drop('insnum').drop('entdepu')"
   ]
  },
  {
   "cell_type": "markdown",
   "metadata": {
    "editable": true
   },
   "source": [
    "Lets do a fast correction of types:"
   ]
  },
  {
   "cell_type": "code",
   "execution_count": 38,
   "metadata": {
    "editable": true
   },
   "outputs": [],
   "source": [
    "df_spark_immigration = df_spark_immigration\\\n",
    "        .withColumn(\"i94yr\", df_spark_immigration[\"i94yr\"].cast(IntegerType()))\\\n",
    "        .withColumn(\"i94mon\", df_spark_immigration[\"i94mon\"].cast(IntegerType()))\\\n",
    "        .withColumn(\"i94cit\", df_spark_immigration[\"i94cit\"].cast(IntegerType()))\\\n",
    "        .withColumn(\"i94res\", df_spark_immigration[\"i94res\"].cast(IntegerType()))\\\n",
    "        .withColumn(\"dtaddto\", df_spark_immigration[\"dtaddto\"].cast(IntegerType()))\\\n",
    "        .withColumn(\"cicid\", df_spark_immigration[\"cicid\"].cast(IntegerType()))\\\n",
    "        .withColumn(\"depdate\", df_spark_immigration[\"depdate\"].cast(IntegerType()))\\\n",
    "        .withColumn(\"i94mode\", df_spark_immigration[\"i94mode\"].cast(IntegerType()))\\\n",
    "        .withColumn(\"i94bir\", df_spark_immigration[\"i94bir\"].cast(IntegerType()))\\\n",
    "        .withColumn(\"i94visa\", df_spark_immigration[\"i94visa\"].cast(IntegerType()))\\\n",
    "        .withColumn(\"count\", df_spark_immigration[\"count\"].cast(IntegerType()))\\\n",
    "        .withColumn(\"biryear\", df_spark_immigration[\"biryear\"].cast(IntegerType()))"
   ]
  },
  {
   "cell_type": "markdown",
   "metadata": {
    "editable": true
   },
   "source": [
    "Lets first fix the dates: i94yr, i94mon, arrdate, depdate, dtadfile, biryear, dtaddto"
   ]
  },
  {
   "cell_type": "code",
   "execution_count": 39,
   "metadata": {
    "editable": true
   },
   "outputs": [
    {
     "name": "stdout",
     "output_type": "stream",
     "text": [
      "root\n",
      " |-- i94yr: integer (nullable = true)\n",
      " |-- i94mon: integer (nullable = true)\n",
      " |-- arrdate: double (nullable = true)\n",
      " |-- depdate: integer (nullable = true)\n",
      " |-- dtadfile: string (nullable = true)\n",
      " |-- biryear: integer (nullable = true)\n",
      " |-- dtaddto: integer (nullable = true)\n",
      "\n"
     ]
    }
   ],
   "source": [
    "df_spark_immigration.select(['i94yr','i94mon','arrdate','depdate','dtadfile','biryear','dtaddto']).printSchema()"
   ]
  },
  {
   "cell_type": "markdown",
   "metadata": {
    "editable": true
   },
   "source": [
    "Checking and treating nulls before casting to date types:"
   ]
  },
  {
   "cell_type": "code",
   "execution_count": 40,
   "metadata": {
    "editable": true
   },
   "outputs": [
    {
     "name": "stdout",
     "output_type": "stream",
     "text": [
      "i94yr  ->  0  :  0.0 %\n",
      "i94mon  ->  0  :  0.0 %\n",
      "arrdate  ->  0  :  0.0 %\n",
      "depdate  ->  142457  :  4.601 %\n",
      "dtadfile  ->  1  :  0.0 %\n",
      "biryear  ->  802  :  0.026 %\n",
      "dtaddto  ->  45823  :  1.48 %\n"
     ]
    }
   ],
   "source": [
    "count_null(df_spark_immigration,['i94yr','i94mon','arrdate','depdate','dtadfile','biryear','dtaddto'])"
   ]
  },
  {
   "cell_type": "markdown",
   "metadata": {
    "editable": true
   },
   "source": [
    "Replace nulls and check again:"
   ]
  },
  {
   "cell_type": "code",
   "execution_count": 41,
   "metadata": {
    "editable": true
   },
   "outputs": [],
   "source": [
    "df_spark_immigration = df_spark_immigration.fillna(0, subset=['i94yr','i94mon','arrdate','depdate','dtadfile','biryear','dtaddto'])"
   ]
  },
  {
   "cell_type": "code",
   "execution_count": 42,
   "metadata": {
    "editable": true
   },
   "outputs": [
    {
     "name": "stdout",
     "output_type": "stream",
     "text": [
      "i94yr  ->  0  :  0.0 %\n",
      "i94mon  ->  0  :  0.0 %\n",
      "arrdate  ->  0  :  0.0 %\n",
      "depdate  ->  0  :  0.0 %\n",
      "dtadfile  ->  1  :  0.0 %\n",
      "biryear  ->  0  :  0.0 %\n",
      "dtaddto  ->  0  :  0.0 %\n"
     ]
    }
   ],
   "source": [
    "count_null(df_spark_immigration,['i94yr','i94mon','arrdate','depdate','dtadfile','biryear','dtaddto'])"
   ]
  },
  {
   "cell_type": "code",
   "execution_count": 43,
   "metadata": {
    "editable": true
   },
   "outputs": [
    {
     "name": "stdout",
     "output_type": "stream",
     "text": [
      "+-------+-----+------+------+------+-------+-------+-------+-------+-------+------+-------+-----+--------+--------+-------+-------+-------+-------+--------+------+-------+--------------+-----+--------+\n",
      "|  cicid|i94yr|i94mon|i94cit|i94res|i94port|arrdate|i94mode|i94addr|depdate|i94bir|i94visa|count|dtadfile|visapost|entdepa|entdepd|matflag|biryear| dtaddto|gender|airline|        admnum|fltno|visatype|\n",
      "+-------+-----+------+------+------+-------+-------+-------+-------+-------+------+-------+-----+--------+--------+-------+-------+-------+-------+--------+------+-------+--------------+-----+--------+\n",
      "|5748517| 2016|     4|   245|   438|    LOS|20574.0|      1|     CA|  20582|    40|      1|    1|20160430|     SYD|      G|      O|      M|   1976|10292016|     F|     QF|9.495387003E10|00011|      B1|\n",
      "|5748518| 2016|     4|   245|   438|    LOS|20574.0|      1|     NV|  20591|    32|      1|    1|20160430|     SYD|      G|      O|      M|   1984|10292016|     F|     VA|9.495562283E10|00007|      B1|\n",
      "|5748519| 2016|     4|   245|   438|    LOS|20574.0|      1|     WA|  20582|    29|      1|    1|20160430|     SYD|      G|      O|      M|   1987|10292016|     M|     DL|9.495640653E10|00040|      B1|\n",
      "|5748520| 2016|     4|   245|   438|    LOS|20574.0|      1|     WA|  20588|    29|      1|    1|20160430|     SYD|      G|      O|      M|   1987|10292016|     F|     DL|9.495645143E10|00040|      B1|\n",
      "|5748521| 2016|     4|   245|   438|    LOS|20574.0|      1|     WA|  20588|    28|      1|    1|20160430|     SYD|      G|      O|      M|   1988|10292016|     M|     DL|9.495638813E10|00040|      B1|\n",
      "+-------+-----+------+------+------+-------+-------+-------+-------+-------+------+-------+-----+--------+--------+-------+-------+-------+-------+--------+------+-------+--------------+-----+--------+\n",
      "only showing top 5 rows\n",
      "\n"
     ]
    }
   ],
   "source": [
    "df_spark_immigration.show(5)"
   ]
  },
  {
   "cell_type": "markdown",
   "metadata": {
    "editable": true
   },
   "source": [
    "Great, now its time to parse the dates-columns to date-types:"
   ]
  },
  {
   "cell_type": "code",
   "execution_count": 44,
   "metadata": {
    "editable": true
   },
   "outputs": [],
   "source": [
    "def parse_sas_date (sasdate):  \n",
    "    epoch = datetime.datetime(1960, 1, 1)\n",
    "    d = epoch + datetime.timedelta(days=sasdate)\n",
    "    return str(d.date())\n",
    "\n",
    "parse_sas_date_UDF = udf(lambda z: parse_sas_date(z),StringType())\n",
    "\n",
    "def dtaddto_parser(text):\n",
    "    text = str(text)\n",
    "    try:\n",
    "        return str(datetime.datetime.strptime(text, \"%m%d%Y\").date())\n",
    "    except:\n",
    "        return str(datetime.date(year = 1800, month = 1, day = 1))\n",
    "    \n",
    "dtaddto_parser_UDF = udf(lambda z: dtaddto_parser(z),StringType())\n",
    "\n",
    "df_spark_immigration = df_spark_immigration\\\n",
    "        .withColumn('arrdate',to_date(parse_sas_date_UDF(\"arrdate\"),'yyyy-MM-dd'))\\\n",
    "        .withColumn('depdate',to_date(parse_sas_date_UDF(\"depdate\"), 'yyyy-MM-dd'))\\\n",
    "        .withColumn('dtadfile', to_date(df_spark_immigration.dtadfile, 'yyyyMMdd'))\\\n",
    "        .withColumn('dtaddto',to_date(dtaddto_parser_UDF(\"dtaddto\"), 'yyyy-MM-dd'))"
   ]
  },
  {
   "cell_type": "code",
   "execution_count": null,
   "metadata": {
    "editable": true
   },
   "outputs": [],
   "source": [
    "df_spark_immigration.select(['i94yr','i94mon','arrdate','depdate','dtadfile','biryear','dtaddto']).show(5)"
   ]
  },
  {
   "cell_type": "code",
   "execution_count": null,
   "metadata": {
    "editable": true
   },
   "outputs": [],
   "source": [
    "df_spark_immigration.printSchema()"
   ]
  },
  {
   "cell_type": "markdown",
   "metadata": {
    "editable": true
   },
   "source": [
    "This looks much better :)\n",
    "\n",
    "But lets complete the table with the code definitions from I94_SAS_Labels_Descriptions.SAS"
   ]
  },
  {
   "cell_type": "code",
   "execution_count": null,
   "metadata": {
    "editable": true
   },
   "outputs": [],
   "source": [
    "f_sas_dict = open(\"raw/I94_SAS_Labels_Descriptions.SAS\")\n",
    "f_sas_dict.readlines()[0:15]"
   ]
  },
  {
   "cell_type": "markdown",
   "metadata": {
    "editable": true
   },
   "source": [
    "This is going to need some serious parsing\n",
    "\n",
    "There are four types of codes: three digit numeric, one digit numeric, three char  and two char, which means the code of one column is not going to impact the code of another column, except for 1 digit codes. This ones will be treated separetly.\n",
    "\n",
    "Lets create a big dictionary of codes and apply it to the relevant columns (which are: I94CIT & I94RES, I94PORT, I94ADDR)"
   ]
  },
  {
   "cell_type": "code",
   "execution_count": null,
   "metadata": {
    "editable": true
   },
   "outputs": [],
   "source": [
    "mapping = {}\n",
    "\n",
    "f_sas_dict = open(\"raw/I94_SAS_Labels_Descriptions.SAS\")\n",
    "for l in f_sas_dict:\n",
    "    if '=' in l:\n",
    "        k,v = l.split('=')\n",
    "        mapping[k.replace(\"'\",\"\").strip()] = v.replace(\"'\",\"\").strip()"
   ]
  },
  {
   "cell_type": "code",
   "execution_count": null,
   "metadata": {
    "editable": true
   },
   "outputs": [],
   "source": [
    "\n",
    "mapping_expr = create_map([lit(x) for x in chain(*mapping.items())])\n",
    "\n",
    "for c in ['I94CIT','I94RES', 'I94PORT', 'I94ADDR']:\n",
    "    df_spark_immigration = df_spark_immigration.withColumn(c + '_dec', mapping_expr.getItem(col(c)))\n"
   ]
  },
  {
   "cell_type": "markdown",
   "metadata": {
    "editable": true
   },
   "source": [
    "Treating columns with one digit code:\n",
    "\n",
    "i94model - \n",
    "\t1 = 'Air'\n",
    "\t2 = 'Sea'\n",
    "\t3 = 'Land'\n",
    "\t9 = 'Not reported' ;\n",
    "    \n",
    "    \n",
    "I94VISA - \n",
    "   1 = Business\n",
    "   2 = Pleasure\n",
    "   3 = Student"
   ]
  },
  {
   "cell_type": "code",
   "execution_count": null,
   "metadata": {
    "editable": true
   },
   "outputs": [],
   "source": [
    "dict_i94mode = {1:'Air', 2:'Sea', 3:'Land', 9 :'Not reported'}\n",
    "dict_i94visa = {1:'Business',2:'Pleasure',3:'Student'}"
   ]
  },
  {
   "cell_type": "code",
   "execution_count": null,
   "metadata": {
    "editable": true
   },
   "outputs": [],
   "source": [
    "# map i94visa\n",
    "mapping_expr_i94visa = create_map([lit(x) for x in chain(*dict_i94visa.items())])\n",
    "df_spark_immigration = df_spark_immigration.withColumn('i94visa', mapping_expr_i94visa.getItem(col('i94visa')))\n",
    "\n",
    "# map i94mode\n",
    "mapping_expr_i94mode = create_map([lit(x) for x in chain(*dict_i94mode.items())])\n",
    "df_spark_immigration = df_spark_immigration.withColumn('i94mode', mapping_expr_i94mode.getItem(col('i94mode')))\n"
   ]
  },
  {
   "cell_type": "code",
   "execution_count": null,
   "metadata": {
    "editable": true
   },
   "outputs": [],
   "source": [
    "df_spark_immigration.sample(False, 0.1, seed=0).show(5)\n"
   ]
  },
  {
   "cell_type": "markdown",
   "metadata": {
    "editable": true
   },
   "source": [
    "Now, those column names are implosible to understand, lets give them a more human touch:"
   ]
  },
  {
   "cell_type": "code",
   "execution_count": null,
   "metadata": {
    "editable": true
   },
   "outputs": [],
   "source": [
    "column_renames = \\\n",
    "{\"cicid\":'cicid',\n",
    "\"i94yr\":'origin_dep_year',\n",
    "\"i94mon\":'origin_dep_month',\n",
    "\"i94cit\": 'arriving_from_city',\n",
    "\"I94CIT_dec\": 'arriving_from_city_dec',\n",
    "\"i94res\":'traveller_residency',\n",
    "\"I94RES_dec\":'traveller_residency_dec',\n",
    "\"i94port\": 'arrival_port',\n",
    "\"I94PORT_dec\": 'arrival_port_dec',\n",
    "\"arrdate\":'arrival_date',\n",
    "\"i94mode\":'arrival_mode',\n",
    "\"i94addr\":'us_address',\n",
    "\"I94ADDR_dec\":'us_address_dec',\n",
    "\"depdate\":'us_departure_date',\n",
    "\"i94bir\":'traveller_age', \n",
    "\"i94visa\":'visa_code',\n",
    "\"count\":'count',\n",
    "\"dtadfile\":'i94_record_date',\n",
    "\"visapost\":'dep_visa_issued',\n",
    "\"occup\":'traveller_ccupation',\n",
    "\"entdepa\":'arrival_flag',\n",
    "\"entdepd\":'departure_flag',\n",
    "\"entdepu\":'update_flag',\n",
    "\"matflag\":'records_match',\n",
    "\"biryear\":'traveller_birth_date',\n",
    "\"dtaddto\":'admission_date',\n",
    "\"gender\":'gender',\n",
    "\"insnum\":'ins_num',\n",
    "\"airline\":'arrival_airline',\n",
    "\"admnum\":'visa_admission_number',\n",
    "\"fltno\":'flight_number',\n",
    "\"visatype\":'visa_type'}\n",
    "\n",
    "df_spark_immigration = df_spark_immigration.select([col(c).alias(column_renames.get(c, c)) for c in df_spark_immigration.columns])"
   ]
  },
  {
   "cell_type": "markdown",
   "metadata": {
    "editable": true
   },
   "source": [
    "Wait, I see that arrival_port_dec could be split into arrival_city and arrival_state"
   ]
  },
  {
   "cell_type": "code",
   "execution_count": null,
   "metadata": {
    "editable": true
   },
   "outputs": [],
   "source": [
    "get_city_UDF = udf(lambda z: z.split(\", \")[0],StringType())\n",
    "get_state_UDF = udf(lambda z: z[-2:],StringType()) # si peta ponerlo en -1\n",
    "\n",
    "df_spark_immigration = df_spark_immigration.withColumn('arrival_city', get_city_UDF(col('arrival_port_dec')))\n",
    "df_spark_immigration = df_spark_immigration.withColumn('arrival_state', get_state_UDF(col('arrival_port_dec')))\n",
    "df_spark_immigration.show()"
   ]
  },
  {
   "cell_type": "markdown",
   "metadata": {
    "editable": true
   },
   "source": [
    "Great, this looks ready, lets save it:"
   ]
  },
  {
   "cell_type": "code",
   "execution_count": null,
   "metadata": {
    "editable": true
   },
   "outputs": [],
   "source": [
    "df_spark_immigration.write.mode('overwrite').partitionBy('origin_dep_year','origin_dep_month').parquet(\"stg/immigration\")"
   ]
  },
  {
   "cell_type": "markdown",
   "metadata": {
    "editable": true
   },
   "source": [
    "##### <font color='blue'>AIRPORT CODES</font> \n"
   ]
  },
  {
   "cell_type": "markdown",
   "metadata": {
    "editable": true
   },
   "source": [
    "- One Airport can have multiple ID's \n",
    "- Multiple airports can share the same name, but not the ID (its unique)\n",
    "- (!) 83% of iata codes are empty, we may have to join by name and/or coordinates and/or location - if local & gps code are not useful.\n",
    "- Airport data could be complimented with external source"
   ]
  },
  {
   "cell_type": "code",
   "execution_count": null,
   "metadata": {
    "editable": true
   },
   "outputs": [],
   "source": [
    "df_airport_codes = df_airport_codes[df_airport_codes['iso_country']=='US']\n",
    "df_airport_codes.head()"
   ]
  },
  {
   "cell_type": "markdown",
   "metadata": {
    "editable": true
   },
   "source": [
    "Lets use an alternative source to enrich the information we have about airports"
   ]
  },
  {
   "cell_type": "code",
   "execution_count": null,
   "metadata": {
    "editable": true
   },
   "outputs": [],
   "source": [
    "alt_df_airports = pd.read_csv('https://raw.githubusercontent.com/opentraveldata/geobases/public/GeoBases/DataSources/Por/Ori/ori_por_public.csv', sep = '^', error_bad_lines = False, usecols = ['iata_code','icao_code','faa_code','name','latitude','longitude','page_rank','country_name','continent_name','city_code','city_name_utf','state_code'])\n",
    "alt_df_airports.head()"
   ]
  },
  {
   "cell_type": "code",
   "execution_count": null,
   "metadata": {
    "editable": true
   },
   "outputs": [],
   "source": [
    "alt_df_airports_sel = alt_df_airports[['icao_code','iata_code','name','country_name','city_name_utf','state_code']]\n"
   ]
  },
  {
   "cell_type": "code",
   "execution_count": null,
   "metadata": {
    "editable": true
   },
   "outputs": [],
   "source": [
    "print('len of df_airport_codes before merge: ', df_airport_codes.shape[0])\n",
    "df_airport_enriched = pd.merge(df_airport_codes,alt_df_airports_sel, how = 'left', left_on='ident',right_on = 'icao_code' )\n",
    "\n",
    "print('len of df_airport_codes before merge: ', df_airport_enriched.shape[0])\n",
    "df_airport_enriched.sample(10)"
   ]
  },
  {
   "cell_type": "markdown",
   "metadata": {
    "editable": true
   },
   "source": [
    "The alt source doesnt add much value to our dataset, so lets not use it."
   ]
  },
  {
   "cell_type": "markdown",
   "metadata": {
    "editable": true
   },
   "source": [
    "Lets parse the 'iso_region' to extract the states:"
   ]
  },
  {
   "cell_type": "code",
   "execution_count": null,
   "metadata": {
    "editable": true
   },
   "outputs": [],
   "source": [
    "df_airport_codes['iso_region'].value_counts()"
   ]
  },
  {
   "cell_type": "code",
   "execution_count": null,
   "metadata": {
    "editable": true
   },
   "outputs": [],
   "source": [
    "df_airport_codes = df_airport_codes[df_airport_codes['iso_region']!='US-U-A']\n",
    "df_airport_codes.head()"
   ]
  },
  {
   "cell_type": "code",
   "execution_count": null,
   "metadata": {
    "editable": true
   },
   "outputs": [],
   "source": [
    "df_airport_codes = df_airport_codes.join(df_airport_codes['iso_region'].str.split('-', expand = True)[1])"
   ]
  },
  {
   "cell_type": "code",
   "execution_count": null,
   "metadata": {
    "editable": true
   },
   "outputs": [],
   "source": [
    "df_airport_codes.rename(columns={1:'state_code'}, inplace=True)\n",
    "df_airport_codes.sample(5)"
   ]
  },
  {
   "cell_type": "markdown",
   "metadata": {
    "editable": true
   },
   "source": [
    "Lets enrich the airport dataset with the country name and the city name:\n"
   ]
  },
  {
   "cell_type": "markdown",
   "metadata": {
    "editable": true
   },
   "source": [
    "Lets now check the joining key with immigration"
   ]
  },
  {
   "cell_type": "code",
   "execution_count": null,
   "metadata": {
    "editable": true
   },
   "outputs": [],
   "source": [
    "\n",
    "pattern = re.compile(\"^[A-Z]{3}$\")\n",
    "r = pattern.search('AL')\n",
    "\n",
    "port_codes = {k: v for k, v in mapping.items() if pattern.search(k)}\n",
    "\n",
    "\n",
    "print('Codes in immigration data:', len(set(port_codes.keys())))\n",
    "print('Codes in airport enriched data: ', df_airport_codes['local_code'].unique().shape[0])\n"
   ]
  },
  {
   "cell_type": "code",
   "execution_count": null,
   "metadata": {
    "editable": true
   },
   "outputs": [],
   "source": [
    "p_codes = set(port_codes)\n",
    "diff = p_codes.difference(set(df_airport_codes['local_code'].unique()))\n",
    "print('Number of airport codes in immigration, not in airport enriched data', len(diff))\n",
    "diff = p_codes.difference(set(df_airport_codes['iata_code'].unique()))\n",
    "print('Number of airport codes in immigration, not in airport enriched data', len(diff))\n"
   ]
  },
  {
   "cell_type": "markdown",
   "metadata": {
    "editable": true
   },
   "source": [
    "Lets now create the codes:"
   ]
  },
  {
   "cell_type": "code",
   "execution_count": null,
   "metadata": {
    "editable": true
   },
   "outputs": [],
   "source": [
    "port_codes_df = pd.DataFrame.from_dict(port_codes, orient='index', columns = ['city_state'])\n",
    "port_codes_df = port_codes_df['city_state'].str.split(\", \", expand = True)[[0,1]].reset_index()\n",
    "port_codes_df.columns = ['code','city','state']\n",
    "port_codes_df.head()"
   ]
  },
  {
   "cell_type": "code",
   "execution_count": null,
   "metadata": {
    "editable": true
   },
   "outputs": [],
   "source": [
    "df_airport_codes['municipality'] = df_airport_codes['municipality'].str.upper()\n",
    "\n",
    "df_airport_codes_with_codes = pd.merge(df_airport_codes, port_codes_df, how = 'left', left_on = ['municipality','state_code'], right_on = ['city', 'state'])"
   ]
  },
  {
   "cell_type": "markdown",
   "metadata": {
    "editable": true
   },
   "source": [
    "Its not great, but its the data that we have :("
   ]
  },
  {
   "cell_type": "code",
   "execution_count": null,
   "metadata": {
    "editable": true
   },
   "outputs": [],
   "source": [
    "df_airport_codes_with_codes.sample(5)"
   ]
  },
  {
   "cell_type": "code",
   "execution_count": null,
   "metadata": {
    "editable": true
   },
   "outputs": [],
   "source": [
    "df_airport_codes_with_codes.to_csv(\"stg/airport.csv\", index = False)"
   ]
  },
  {
   "cell_type": "markdown",
   "metadata": {
    "editable": true
   },
   "source": [
    "##### <font color='blue'>TEMPERATURES</font> \n",
    "\n",
    "Findings\n",
    "- (!) There is no data for 2016! -> Solution below.\n",
    "- Coordinates are in different format; compared to airports.\n",
    "- df_airport_codes.Municipality == df_temperatures.city?\n",
    "- Data should be provided at airport level.\n",
    "- Nulls in key column: AverageTemperature"
   ]
  },
  {
   "cell_type": "code",
   "execution_count": null,
   "metadata": {
    "editable": true
   },
   "outputs": [],
   "source": [
    "# Offset temperature by 4 years to ensure data for 2016\n",
    "df_temperatures['dt'] = df_temperatures['dt'] + pd.offsets.DateOffset(years=4)\n",
    "print(df_temperatures['dt'].max())\n",
    "print(df_temperatures['dt'].min())"
   ]
  },
  {
   "cell_type": "code",
   "execution_count": null,
   "metadata": {
    "editable": true
   },
   "outputs": [],
   "source": [
    "# Remove missing data\n",
    "df_temperatures.dropna(subset = ['AverageTemperature'], inplace = True)\n",
    "df_temperatures.isnull().sum()"
   ]
  },
  {
   "cell_type": "code",
   "execution_count": null,
   "metadata": {
    "editable": true
   },
   "outputs": [],
   "source": [
    "# Lets filter only US\n",
    "df_temperatures['Country'].value_counts().head()"
   ]
  },
  {
   "cell_type": "code",
   "execution_count": null,
   "metadata": {
    "editable": true
   },
   "outputs": [],
   "source": [
    "df_temperatures[(df_temperatures['Country'] == 'US') | (df_temperatures['Country'] == 'USA')]"
   ]
  },
  {
   "cell_type": "code",
   "execution_count": null,
   "metadata": {
    "editable": true
   },
   "outputs": [],
   "source": [
    "df_temperatures_us = df_temperatures[df_temperatures['Country'] == 'United States']"
   ]
  },
  {
   "cell_type": "code",
   "execution_count": null,
   "metadata": {
    "editable": true
   },
   "outputs": [],
   "source": [
    "df_temperatures_us.sample()"
   ]
  },
  {
   "cell_type": "markdown",
   "metadata": {
    "editable": true
   },
   "source": [
    "Lets now extract from the coordinates the state! for this we will use a library called 'reverse_geocoder':"
   ]
  },
  {
   "cell_type": "code",
   "execution_count": null,
   "metadata": {
    "editable": true
   },
   "outputs": [],
   "source": [
    "def get_state_code (l):  \n",
    "    lat = float(l['Latitude'][:-1]) if ('N' in l['Latitude']) else  -1 * float(l['Latitude'][:-1])\n",
    "    lon = -1 * float(l['Longitude'][:-1]) if ('W' in l['Longitude']) else  float(l['Longitude'][:-1])\n",
    "    results = reverse_geocoder.search((lat, lon))\n",
    "    #check if the location is a US state (the 'admin1' variable is where US states are listed)  \n",
    "    if results[0]['admin1'] in us_state_abbrev.keys():\n",
    "        return us_state_abbrev[results[0]['admin1']]\n",
    "    else:\n",
    "        return None\n",
    "\n",
    "    #df_temperatures_us['state_code'] = df_temperatures_us.iloc[0:2].apply(get_state_code, axis = 1)\n",
    "temp_lat_lon = df_temperatures_us[['Latitude', 'Longitude']].drop_duplicates()    \n",
    "temp_lat_lon['state_code'] = temp_lat_lon.apply(get_state_code, axis = 1)"
   ]
  },
  {
   "cell_type": "code",
   "execution_count": null,
   "metadata": {
    "editable": true
   },
   "outputs": [],
   "source": [
    "df_temperatures_us = pd.merge(df_temperatures_us, temp_lat_lon,how = 'left', left_on = ['Latitude','Longitude'], right_on = ['Latitude','Longitude']   )\n"
   ]
  },
  {
   "cell_type": "code",
   "execution_count": null,
   "metadata": {
    "editable": true
   },
   "outputs": [],
   "source": [
    "df_temperatures_us.sample(5)"
   ]
  },
  {
   "cell_type": "markdown",
   "metadata": {
    "editable": true
   },
   "source": [
    "Fantastic, it looks ready:) lets save it"
   ]
  },
  {
   "cell_type": "code",
   "execution_count": null,
   "metadata": {
    "editable": true
   },
   "outputs": [],
   "source": [
    "df_temperatures_us[df_temperatures_us['dt'].dt.year == 2016].to_csv('stg/temperatures.csv', index = False)"
   ]
  },
  {
   "cell_type": "markdown",
   "metadata": {
    "editable": true
   },
   "source": [
    "##### <font color='blue'>CITIES</font> \n"
   ]
  },
  {
   "cell_type": "code",
   "execution_count": null,
   "metadata": {
    "editable": true
   },
   "outputs": [],
   "source": [
    "df_cities.sample(4)"
   ]
  },
  {
   "cell_type": "markdown",
   "metadata": {
    "editable": true
   },
   "source": [
    "There were few nulls, lets get rid of them:"
   ]
  },
  {
   "cell_type": "code",
   "execution_count": null,
   "metadata": {
    "editable": true
   },
   "outputs": [],
   "source": [
    "df_cities.dropna(inplace = True)"
   ]
  },
  {
   "cell_type": "markdown",
   "metadata": {
    "editable": true
   },
   "source": [
    "Lets transfor the names of the columns to lowercase with _ instead of spaces: "
   ]
  },
  {
   "cell_type": "code",
   "execution_count": null,
   "metadata": {
    "editable": true
   },
   "outputs": [],
   "source": [
    "new_c = []\n",
    "for c in df_cities.columns:\n",
    "    c = c.lower()\n",
    "    c = c.replace(\" \",\"_\")\n",
    "    c = c.replace(\"-\",\"_\")\n",
    "    new_c.append(c)\n",
    "df_cities.columns = new_c\n",
    "\n",
    "df_cities.head(5)"
   ]
  },
  {
   "cell_type": "markdown",
   "metadata": {
    "editable": true
   },
   "source": [
    "Those float can now be casted to int, they were float because of the nulls:"
   ]
  },
  {
   "cell_type": "code",
   "execution_count": null,
   "metadata": {
    "editable": true
   },
   "outputs": [],
   "source": [
    "for c in \"male_population,female_population,total_population,number_of_veterans,foreign_born\".split(\",\"):\n",
    "    df_cities[c] = df_cities[c].astype(int)\n",
    "df_cities.sample(5)"
   ]
  },
  {
   "cell_type": "markdown",
   "metadata": {
    "editable": true
   },
   "source": [
    "Ready to save :)"
   ]
  },
  {
   "cell_type": "code",
   "execution_count": null,
   "metadata": {
    "editable": true
   },
   "outputs": [],
   "source": [
    "df_cities.to_csv('stg/cities.csv', index = False)"
   ]
  },
  {
   "cell_type": "markdown",
   "metadata": {
    "editable": true
   },
   "source": [
    "### Step 3: Define the Data Model\n",
    "#### 3.1 Conceptual Data Model\n",
    "Map out the conceptual data model and explain why you chose that model\n"
   ]
  },
  {
   "cell_type": "markdown",
   "metadata": {
    "editable": true
   },
   "source": [
    "The chosen model is a fact table with immigration data, and dimension tables to enrich with additional information if required. It is intended this way so that additional tables could easly be added and sold. \n",
    "\n",
    "Also, you may notice that some of the dimension tables share keys and aggregation level, in other words they could have been put in just one table, but agian for 'selling' purposes we have decided to create different tables:"
   ]
  },
  {
   "cell_type": "markdown",
   "metadata": {
    "editable": true
   },
   "source": [
    "<img src=\"data_model.png\" width=900 />"
   ]
  },
  {
   "cell_type": "markdown",
   "metadata": {
    "editable": true
   },
   "source": [
    "\n",
    "#### 3.2 Mapping Out Data Pipelines\n",
    "List the steps necessary to pipeline the data into the chosen data model\n",
    "\n",
    "The chosen data model is actually very simple, and only requires aggregating one of the tables. The steps would be to do a query per table selecting the required data, in total we would need 6 quries."
   ]
  },
  {
   "cell_type": "markdown",
   "metadata": {
    "editable": true
   },
   "source": [
    "### Step 4: Run Pipelines to Model the Data \n",
    "#### 4.1 Create the data model\n",
    "Build the data pipelines to create the data model."
   ]
  },
  {
   "cell_type": "code",
   "execution_count": null,
   "metadata": {
    "editable": true
   },
   "outputs": [],
   "source": [
    "# Read datasets\n",
    "df_immigration_clean = spark.read.parquet(\"stg/immigration\")\n",
    "df_airport_clean = spark.read.option(\"header\",True).csv(\"stg/airport.csv\")\n",
    "df_cities_clean = spark.read.option(\"header\",True).csv(\"stg/cities.csv\")\n",
    "df_temperature_clean = spark.read.option(\"header\",True).csv(\"stg/temperatures.csv\")"
   ]
  },
  {
   "cell_type": "code",
   "execution_count": null,
   "metadata": {
    "editable": true
   },
   "outputs": [],
   "source": [
    "# Create temp views\n",
    "df_immigration_clean.createOrReplaceTempView(\"immigration\")\n",
    "df_airport_clean.createOrReplaceTempView(\"airports\")\n",
    "df_cities_clean.createOrReplaceTempView(\"cities\")\n",
    "df_temperature_clean.createOrReplaceTempView(\"temperatures\")"
   ]
  },
  {
   "cell_type": "markdown",
   "metadata": {
    "editable": true
   },
   "source": [
    "##### IMMIGRATION"
   ]
  },
  {
   "cell_type": "code",
   "execution_count": null,
   "metadata": {
    "editable": true
   },
   "outputs": [],
   "source": [
    "# TRAVELLER_TABLE\n",
    "traveller_table = spark.sql(\"\"\"\n",
    "SELECT \n",
    " distinct\n",
    " cicid,\n",
    " traveller_residency_dec as traveller_residency,\n",
    " traveller_age,\n",
    " gender,\n",
    " traveller_birth_date,\n",
    " us_address\n",
    "FROM immigration\n",
    "\"\"\")\n",
    "traveller_table.show(5)\n",
    "traveller_table.write.mode('overwrite').partitionBy('traveller_residency').parquet(\"prd/traveller\")"
   ]
  },
  {
   "cell_type": "code",
   "execution_count": null,
   "metadata": {
    "editable": true
   },
   "outputs": [],
   "source": [
    "# VISA_TABLE\n",
    "visa_table = spark.sql(\"\"\"\n",
    "SELECT \n",
    " distinct\n",
    " cicid || visa_admission_number as visa_id,\n",
    " visa_admission_number,\n",
    " visa_type,\n",
    " admission_date,\n",
    " dep_visa_issued,\n",
    " i94_record_date,\n",
    " visa_code,\n",
    " records_match,\n",
    " arrival_flag,\n",
    " departure_flag\n",
    "FROM immigration\n",
    "\"\"\")\n",
    "visa_table.show(5)\n",
    "visa_table.write.mode('overwrite').partitionBy('admission_date').parquet(\"prd/visa\")"
   ]
  },
  {
   "cell_type": "code",
   "execution_count": null,
   "metadata": {
    "editable": true
   },
   "outputs": [],
   "source": [
    "# IMMIGRATION_FACT_TABLE\n",
    "immigration_table = spark.sql(\"\"\"\n",
    "SELECT \n",
    " distinct\n",
    " cicid,\n",
    " cicid || visa_admission_number as visa_id,\n",
    " arrival_date,\n",
    " origin_dep_year || \"-\" || origin_dep_month as origin_dep_date,\n",
    " arrival_airline,\n",
    " arriving_from_city_dec,\n",
    " arrival_city,\n",
    " arrival_state,\n",
    " arrival_port,\n",
    " flight_number,\n",
    " us_departure_date\n",
    " \n",
    "FROM immigration\n",
    "ORDER BY arrival_date\n",
    "WHERE arrival_mode = 'Air'\n",
    "\"\"\")\n",
    "immigration_table.show(5)\n",
    "immigration_table.write.mode('overwrite').partitionBy('arrival_date', 'arrival_state').parquet(\"prd/immigration\")"
   ]
  },
  {
   "cell_type": "markdown",
   "metadata": {
    "editable": true
   },
   "source": [
    "##### AIRPORT"
   ]
  },
  {
   "cell_type": "code",
   "execution_count": null,
   "metadata": {
    "editable": true
   },
   "outputs": [],
   "source": [
    "airport_table = spark.sql(\"\"\"\n",
    "SELECT\n",
    "    distinct\n",
    "    ident,\n",
    "    local_code,\n",
    "    gps_code,\n",
    "    iata_code,\n",
    "    name as airport_name,\n",
    "    type,\n",
    "    elevation_ft,\n",
    "    iso_country as country,\n",
    "    municipality as city,\n",
    "    state_code\n",
    "FROM\n",
    "    airports\n",
    "\"\"\")\n",
    "\n",
    "airport_table.show(5)\n",
    "airport_table.write.mode('overwrite').partitionBy('state_code').parquet(\"prd/airport\")"
   ]
  },
  {
   "cell_type": "markdown",
   "metadata": {
    "editable": true
   },
   "source": [
    "##### CITIES"
   ]
  },
  {
   "cell_type": "code",
   "execution_count": null,
   "metadata": {
    "editable": true
   },
   "outputs": [],
   "source": [
    "# City demographics\n",
    "cities_table = spark.sql(\"\"\"\n",
    "SELECT\n",
    "    city,\n",
    "    state,\n",
    "    state_code,\n",
    "    median_age,\n",
    "    male_population,\n",
    "    female_population,\n",
    "    number_of_veterans,\n",
    "    foreign_born,\n",
    "    average_household_size\n",
    "FROM\n",
    "    cities\n",
    "\"\"\")\n",
    "\n",
    "cities_table.show(5)\n",
    "cities_table.write.mode('overwrite').partitionBy('state_code').parquet(\"prd/airport\")"
   ]
  },
  {
   "cell_type": "code",
   "execution_count": null,
   "metadata": {
    "editable": true
   },
   "outputs": [],
   "source": [
    "# City Races\n",
    "races_table = spark.sql(\"\"\"\n",
    "\n",
    "    SELECT \n",
    "        city,\n",
    "        state_code,\n",
    "        CAST(SUM(CASE WHEN race='Asian' THEN count END) AS int) AS asian,\n",
    "        CAST(SUM(CASE WHEN race='White' THEN count END) AS int) AS white,\n",
    "        CAST(SUM(CASE WHEN race= 'American Indian and Alaska Native' THEN count  END) AS int) AS american_indian_and_alska_native,\n",
    "        CAST(SUM(CASE WHEN race= 'Hispanic or Latino' THEN count  END) AS INT) AS hispanic_or_latino,\n",
    "        CAST(SUM(CASE WHEN race= 'Black or African-American' THEN count  END) AS INT) AS black_or_african_american\n",
    "\n",
    "        FROM cities\n",
    "\n",
    "Group by city,state_code\n",
    "\"\"\")\n",
    "races_table.show(5)\n",
    "races_table.write.mode('overwrite').partitionBy('state_code').parquet(\"prd/cities\")"
   ]
  },
  {
   "cell_type": "markdown",
   "metadata": {
    "editable": true
   },
   "source": [
    "##### TEMPERATURES"
   ]
  },
  {
   "cell_type": "code",
   "execution_count": null,
   "metadata": {
    "editable": true
   },
   "outputs": [],
   "source": [
    "temperatures_table = spark.sql(\"\"\"\n",
    "SELECT \n",
    "    dt as date, \n",
    "    City as city, \n",
    "    state_code, \n",
    "    mean(AverageTemperature) avg_temp\n",
    "FROM temperatures\n",
    "GROUP BY 1,2,3 \n",
    "ORDER BY 1,3,2\n",
    "\"\"\")\n",
    "\n",
    "temperatures_table.show(5)\n",
    "temperatures_table.write.mode('overwrite').partitionBy('state_code').parquet(\"prd/temperatures\")"
   ]
  },
  {
   "cell_type": "markdown",
   "metadata": {
    "editable": true
   },
   "source": [
    "#### 4.2 Data Quality Checks\n",
    "Explain the data quality checks you'll perform to ensure the pipeline ran as expected. These could include:\n",
    " * Integrity constraints on the relational database (e.g., unique key, data type, etc.)\n",
    " * Unit tests for the scripts to ensure they are doing the right thing\n",
    " * Source/Count checks to ensure completeness\n",
    " \n",
    "Run Quality Checks"
   ]
  },
  {
   "cell_type": "code",
   "execution_count": null,
   "metadata": {
    "editable": true
   },
   "outputs": [],
   "source": [
    "# Ensure all tables have data:\n",
    "\n",
    "tables = ['immigration','airports','cities','temperatures']\n",
    "\n",
    "for t in tables:\n",
    "    r = spark.sql(f'SELECT count(*) from {t}').toPandas().iloc[0,0]\n",
    "    print(t,\" --> \", r)\n",
    "    if r < 1:\n",
    "        raise ValueError(f\"Table {t} was not properly created\")"
   ]
  },
  {
   "cell_type": "code",
   "execution_count": null,
   "metadata": {
    "editable": true
   },
   "outputs": [],
   "source": [
    "# Ensure fact table has same number of lines as the original table\n",
    "\n",
    "r_start = df_spark_immigration.count()\n",
    "r_end = spark.sql(f'SELECT count(*) from immigration').toPandas().iloc[0,0]\n",
    "\n",
    "if r_start != r_end:\n",
    "    raise ValueError(f\"Table immigration was not properly created\")"
   ]
  },
  {
   "cell_type": "markdown",
   "metadata": {
    "editable": true
   },
   "source": [
    "#### 4.3 Data dictionary \n",
    "Create a data dictionary for your data model. For each field, provide a brief description of what the data is and where it came from. You can include the data dictionary in the notebook or in a separate file."
   ]
  },
  {
   "cell_type": "markdown",
   "metadata": {
    "editable": true
   },
   "source": [
    "#### IMMIGRATION FACT\n",
    "```\n",
    "cicid                   -> Identifier of the traveller\n",
    "visa_id                 -> Identifier of the visa, creted with the cicid and the arrival visa admission date\n",
    "arrival_date            -> Arrival date of the traveller in US\n",
    "origin_dep_date         -> Date of departure before arriving to US\n",
    "arrival_airline         -> Iata code of the airline\n",
    "arriving_from_city_dec  -> City where the traveller started the trip to US\n",
    "arrival_city            -> US city where traveller landed\n",
    "arrival_state           -> US state where traveller landed\n",
    "arrival_port            -> Code of arrival city\n",
    "flight_number           -> Flight number of the arriving flight\n",
    "us_departure_date       -> Expected departure date from the US\n",
    "```"
   ]
  },
  {
   "cell_type": "markdown",
   "metadata": {
    "editable": true
   },
   "source": [
    "#### TRAVELLER DIM\n",
    "```\n",
    "cicid                 -> Identifier of the traveller\n",
    "traveller_residency   -> Traveller residency outside US\n",
    "traveller_age         -> Age at the time of travelling\n",
    "gender                -> Gender\n",
    "traveller_birth_date  -> Date of birth\n",
    "us_address            -> US state where the traveller intends to stay\n",
    "```"
   ]
  },
  {
   "cell_type": "markdown",
   "metadata": {
    "editable": true
   },
   "source": [
    "#### VISA DIM\n",
    "```\n",
    " visa_id                -> Identifier of the visa, creted with the cicid and the arrival visa admission date.\n",
    " visa_admission_number  -> Visa admission number \n",
    " visa_type              -> Class of admission legally admitting the non-immigrant to temporarily stay in U.S\n",
    " admission_date         -> Date of admission\n",
    " dep_visa_issued        -> Departament that issued the visa\n",
    " i94_record_date        -> Dare of i94 record\n",
    " visa_code              -> Intention of travel: Business / Pleasure / Student\n",
    " records_match          -> Match of arrival and departure records\n",
    " arrival_flag           -> Admitted or paroled into the U.S.\n",
    " departure_flag         -> Departed, lost I-94 or is deceased\n",
    " ```"
   ]
  },
  {
   "cell_type": "markdown",
   "metadata": {
    "editable": true
   },
   "source": [
    "#### AIRPORT DIM\n",
    "```\n",
    "ident                   -> Airport identifier\n",
    "local_code              -> Airport local code\n",
    "gps_code                -> Airport gsp code\n",
    "iata_code               -> Airport iata code\n",
    "name as airport_name    -> Name of the airport\n",
    "type                    -> Type of airport (large, small, heliport,etc)\n",
    "elevation_ft            -> Elivation in feet\n",
    "country                 -> Country where airport is located\n",
    "city                    -> City where airport is located\n",
    "state_code              -> State where airport is located\n",
    "```"
   ]
  },
  {
   "cell_type": "markdown",
   "metadata": {
    "editable": true
   },
   "source": [
    "#### CITIES DIM\n",
    "```\n",
    "city                    -> City name\n",
    "state                   -> State name\n",
    "state_code              -> State code\n",
    "median_age              -> Median age in city\n",
    "male_population         -> Male population of males in city\n",
    "female_population       -> Female population\n",
    "number_of_veterans      -> Number of veterans in the city\n",
    "foreign_born            -> Number of foreign born population\n",
    "average_household_size  -> Average household size in city\n",
    "```"
   ]
  },
  {
   "cell_type": "markdown",
   "metadata": {
    "editable": true
   },
   "source": [
    "#### RACES DIM\n",
    "\n",
    "```\n",
    "city                               -> City name\n",
    "state_code                         -> State code of city\n",
    "asian                              -> asian population\n",
    "white                              -> white population\n",
    "american_indian_and_alska_native   -> american indian and alska native population\n",
    "hispanic_or_latino                 -> hispanic or latino population\n",
    "black_or_african_american          -> black or african american population\n",
    "```"
   ]
  },
  {
   "cell_type": "markdown",
   "metadata": {
    "editable": true
   },
   "source": [
    "#### TEMPERATURES DIM\n",
    "```\n",
    "date                     -> date \n",
    "city                     -> city name\n",
    "state_code               -> state_code\n",
    "avg_temp                 -> average temperature\n",
    "```"
   ]
  },
  {
   "cell_type": "markdown",
   "metadata": {
    "editable": true
   },
   "source": [
    "#### Step 5: Complete Project Write Up\n",
    "* Clearly state the rationale for the choice of tools and technologies for the project.\n",
    "\n",
    "For the cleaning part, for small-data it was the selected technology was pands, and for the big-data it was pySpark. Then, for the pipeline, pySpark with .sql was chosen because it would very easy to refactor the code in case of moving it to an sql enviroment such as redshift."
   ]
  },
  {
   "cell_type": "markdown",
   "metadata": {
    "editable": true
   },
   "source": [
    "* Propose how often the data should be updated and why.\n",
    "\n",
    "It really depends on the usage of the data, if its used for an ML model that already performs well, then it could be updated every few months, however if it used for analytics and decision making - for example, airlines monitoring non-us travellers, then it may be better to update it more frequently, perhaps weekly."
   ]
  },
  {
   "cell_type": "markdown",
   "metadata": {
    "editable": true
   },
   "source": [
    "**Write a description of how you would approach the problem differently under the following scenarios:** \n"
   ]
  },
  {
   "cell_type": "markdown",
   "metadata": {
    "editable": true
   },
   "source": [
    " * The data was increased by 100x.\n",
    "    \n",
    "    If all the datasources were increased by 100x, we would need a bigger cluster, perhaps an EMR, and the selected technology would probably be Spark for data-cleaning, writing to s3/parquet, and the ETL in a Redshift.\n",
    "    \n",
    "    This would allow scalability if instead of 100x is 200x.\n",
    "    "
   ]
  },
  {
   "cell_type": "markdown",
   "metadata": {
    "editable": true
   },
   "source": [
    " * The data populates a dashboard that must be updated on a daily basis by 7am every day.\n",
    "    \n",
    "We would defintely need a orchestrator that runs the ETL over night and incrementally. With monitoring and alerts. "
   ]
  }
 ],
 "metadata": {
  "kernelspec": {
   "display_name": "Python 3",
   "language": "python",
   "name": "python3"
  },
  "language_info": {
   "codemirror_mode": {
    "name": "ipython",
    "version": 3
   },
   "file_extension": ".py",
   "mimetype": "text/x-python",
   "name": "python",
   "nbconvert_exporter": "python",
   "pygments_lexer": "ipython3",
   "version": "3.6.3"
  }
 },
 "nbformat": 4,
 "nbformat_minor": 4
}
